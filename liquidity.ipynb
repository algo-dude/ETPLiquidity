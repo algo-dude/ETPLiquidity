{
 "cells": [
  {
   "cell_type": "markdown",
   "metadata": {},
   "source": [
    "## Initialization: Daily Data\n",
    "I have pulled down USD, CHF, EUR, and GBP historical data from SIX."
   ]
  },
  {
   "cell_type": "code",
   "execution_count": 150,
   "metadata": {},
   "outputs": [],
   "source": [
    "import pandas as pd\n",
    "import numpy as np\n",
    "from pathlib import Path\n",
    "import seaborn as sns\n",
    "import matplotlib.pyplot as plt\n",
    "sns.set_theme(style='white', font_scale=1.5, rc = {'figure.figsize':(12,6)})\n",
    "\n",
    "import warnings\n",
    "warnings.filterwarnings('ignore')\n",
    "# a value has been set on a copy of a slice of a dataframe....\n",
    "\n",
    "# Data directory\n",
    "data_dir = Path() / 'data'\n",
    "# Data source:\n",
    "# https://www.six-group.com/en/products-services/the-swiss-stock-exchange/market-data/etp/etp-explorer/etp-detail.CH0454664001USD4.html#/\n",
    "\n",
    "# Create dict of dataframes from data_dir\n",
    "df_dict = {}\n",
    "for file in data_dir.glob('*.csv'):\n",
    "    # Semicolon delimited, and skip two lines for simplicity\n",
    "    df_dict[file.stem] = pd.read_csv(file, sep=';', skiprows=2)"
   ]
  },
  {
   "cell_type": "code",
   "execution_count": 151,
   "metadata": {},
   "outputs": [],
   "source": [
    "GBP = df_dict.get('historical_GBP')\n",
    "EUR = df_dict.get('historical_EUR')\n",
    "USD = df_dict.get('historical_USD')\n",
    "CHF = df_dict.get('historical_CHF')\n",
    "markets = [GBP, EUR, USD, CHF]\n",
    "markets_names = ['GBP', 'EUR', 'USD', 'CHF']\n",
    "# concat dataframes and add name of symbol\n",
    "master = pd.concat([GBP, EUR, USD, CHF], axis=1, keys=['GBP', 'EUR', 'USD', 'CHF'])"
   ]
  },
  {
   "cell_type": "code",
   "execution_count": 152,
   "metadata": {},
   "outputs": [
    {
     "data": {
      "text/html": [
       "<div>\n",
       "<style scoped>\n",
       "    .dataframe tbody tr th:only-of-type {\n",
       "        vertical-align: middle;\n",
       "    }\n",
       "\n",
       "    .dataframe tbody tr th {\n",
       "        vertical-align: top;\n",
       "    }\n",
       "\n",
       "    .dataframe thead tr th {\n",
       "        text-align: left;\n",
       "    }\n",
       "</style>\n",
       "<table border=\"1\" class=\"dataframe\">\n",
       "  <thead>\n",
       "    <tr>\n",
       "      <th></th>\n",
       "      <th colspan=\"3\" halign=\"left\">GBP</th>\n",
       "      <th colspan=\"3\" halign=\"left\">EUR</th>\n",
       "      <th colspan=\"3\" halign=\"left\">USD</th>\n",
       "      <th colspan=\"3\" halign=\"left\">CHF</th>\n",
       "    </tr>\n",
       "    <tr>\n",
       "      <th></th>\n",
       "      <th>Date</th>\n",
       "      <th>Price</th>\n",
       "      <th>Volume</th>\n",
       "      <th>Date</th>\n",
       "      <th>Price</th>\n",
       "      <th>Volume</th>\n",
       "      <th>Date</th>\n",
       "      <th>Price</th>\n",
       "      <th>Volume</th>\n",
       "      <th>Date</th>\n",
       "      <th>Price</th>\n",
       "      <th>Volume</th>\n",
       "    </tr>\n",
       "  </thead>\n",
       "  <tbody>\n",
       "    <tr>\n",
       "      <th>0</th>\n",
       "      <td>24.03.2022</td>\n",
       "      <td>11.472</td>\n",
       "      <td>4</td>\n",
       "      <td>24.03.2022</td>\n",
       "      <td>13.734</td>\n",
       "      <td>301</td>\n",
       "      <td>24.03.2022</td>\n",
       "      <td>15.422</td>\n",
       "      <td>30184</td>\n",
       "      <td>24.03.2022</td>\n",
       "      <td>14.350</td>\n",
       "      <td>2664</td>\n",
       "    </tr>\n",
       "    <tr>\n",
       "      <th>1</th>\n",
       "      <td>23.03.2022</td>\n",
       "      <td>11.196</td>\n",
       "      <td>6</td>\n",
       "      <td>23.03.2022</td>\n",
       "      <td>13.620</td>\n",
       "      <td>0</td>\n",
       "      <td>23.03.2022</td>\n",
       "      <td>15.080</td>\n",
       "      <td>73138</td>\n",
       "      <td>23.03.2022</td>\n",
       "      <td>13.942</td>\n",
       "      <td>1375</td>\n",
       "    </tr>\n",
       "    <tr>\n",
       "      <th>2</th>\n",
       "      <td>22.03.2022</td>\n",
       "      <td>11.450</td>\n",
       "      <td>9</td>\n",
       "      <td>22.03.2022</td>\n",
       "      <td>13.530</td>\n",
       "      <td>500</td>\n",
       "      <td>22.03.2022</td>\n",
       "      <td>14.990</td>\n",
       "      <td>49741</td>\n",
       "      <td>22.03.2022</td>\n",
       "      <td>14.000</td>\n",
       "      <td>3812</td>\n",
       "    </tr>\n",
       "    <tr>\n",
       "      <th>3</th>\n",
       "      <td>21.03.2022</td>\n",
       "      <td>11.052</td>\n",
       "      <td>2</td>\n",
       "      <td>21.03.2022</td>\n",
       "      <td>13.180</td>\n",
       "      <td>1890</td>\n",
       "      <td>21.03.2022</td>\n",
       "      <td>14.500</td>\n",
       "      <td>68929</td>\n",
       "      <td>21.03.2022</td>\n",
       "      <td>13.502</td>\n",
       "      <td>1146</td>\n",
       "    </tr>\n",
       "    <tr>\n",
       "      <th>4</th>\n",
       "      <td>18.03.2022</td>\n",
       "      <td>11.024</td>\n",
       "      <td>0</td>\n",
       "      <td>18.03.2022</td>\n",
       "      <td>13.132</td>\n",
       "      <td>0</td>\n",
       "      <td>18.03.2022</td>\n",
       "      <td>14.526</td>\n",
       "      <td>29049</td>\n",
       "      <td>18.03.2022</td>\n",
       "      <td>13.370</td>\n",
       "      <td>2530</td>\n",
       "    </tr>\n",
       "    <tr>\n",
       "      <th>5</th>\n",
       "      <td>17.03.2022</td>\n",
       "      <td>10.984</td>\n",
       "      <td>4</td>\n",
       "      <td>17.03.2022</td>\n",
       "      <td>12.938</td>\n",
       "      <td>0</td>\n",
       "      <td>17.03.2022</td>\n",
       "      <td>14.350</td>\n",
       "      <td>55561</td>\n",
       "      <td>17.03.2022</td>\n",
       "      <td>13.488</td>\n",
       "      <td>4080</td>\n",
       "    </tr>\n",
       "    <tr>\n",
       "      <th>6</th>\n",
       "      <td>16.03.2022</td>\n",
       "      <td>10.954</td>\n",
       "      <td>4119</td>\n",
       "      <td>16.03.2022</td>\n",
       "      <td>13.018</td>\n",
       "      <td>7936</td>\n",
       "      <td>16.03.2022</td>\n",
       "      <td>14.208</td>\n",
       "      <td>88114</td>\n",
       "      <td>16.03.2022</td>\n",
       "      <td>13.434</td>\n",
       "      <td>5787</td>\n",
       "    </tr>\n",
       "    <tr>\n",
       "      <th>7</th>\n",
       "      <td>15.03.2022</td>\n",
       "      <td>10.392</td>\n",
       "      <td>2</td>\n",
       "      <td>15.03.2022</td>\n",
       "      <td>12.372</td>\n",
       "      <td>7</td>\n",
       "      <td>15.03.2022</td>\n",
       "      <td>13.704</td>\n",
       "      <td>36793</td>\n",
       "      <td>15.03.2022</td>\n",
       "      <td>12.820</td>\n",
       "      <td>475</td>\n",
       "    </tr>\n",
       "    <tr>\n",
       "      <th>8</th>\n",
       "      <td>14.03.2022</td>\n",
       "      <td>10.496</td>\n",
       "      <td>0</td>\n",
       "      <td>14.03.2022</td>\n",
       "      <td>12.626</td>\n",
       "      <td>4601</td>\n",
       "      <td>14.03.2022</td>\n",
       "      <td>13.700</td>\n",
       "      <td>8221</td>\n",
       "      <td>14.03.2022</td>\n",
       "      <td>12.860</td>\n",
       "      <td>3844</td>\n",
       "    </tr>\n",
       "    <tr>\n",
       "      <th>9</th>\n",
       "      <td>11.03.2022</td>\n",
       "      <td>10.422</td>\n",
       "      <td>0</td>\n",
       "      <td>11.03.2022</td>\n",
       "      <td>12.546</td>\n",
       "      <td>139</td>\n",
       "      <td>11.03.2022</td>\n",
       "      <td>13.856</td>\n",
       "      <td>55383</td>\n",
       "      <td>11.03.2022</td>\n",
       "      <td>12.840</td>\n",
       "      <td>1440</td>\n",
       "    </tr>\n",
       "    <tr>\n",
       "      <th>10</th>\n",
       "      <td>10.03.2022</td>\n",
       "      <td>10.434</td>\n",
       "      <td>1072</td>\n",
       "      <td>10.03.2022</td>\n",
       "      <td>12.506</td>\n",
       "      <td>648</td>\n",
       "      <td>10.03.2022</td>\n",
       "      <td>13.778</td>\n",
       "      <td>26094</td>\n",
       "      <td>10.03.2022</td>\n",
       "      <td>12.790</td>\n",
       "      <td>15945</td>\n",
       "    </tr>\n",
       "    <tr>\n",
       "      <th>11</th>\n",
       "      <td>09.03.2022</td>\n",
       "      <td>11.336</td>\n",
       "      <td>0</td>\n",
       "      <td>09.03.2022</td>\n",
       "      <td>13.572</td>\n",
       "      <td>262</td>\n",
       "      <td>09.03.2022</td>\n",
       "      <td>15.000</td>\n",
       "      <td>371713</td>\n",
       "      <td>09.03.2022</td>\n",
       "      <td>13.798</td>\n",
       "      <td>5391</td>\n",
       "    </tr>\n",
       "    <tr>\n",
       "      <th>12</th>\n",
       "      <td>08.03.2022</td>\n",
       "      <td>10.318</td>\n",
       "      <td>0</td>\n",
       "      <td>08.03.2022</td>\n",
       "      <td>12.528</td>\n",
       "      <td>538</td>\n",
       "      <td>08.03.2022</td>\n",
       "      <td>13.508</td>\n",
       "      <td>20505</td>\n",
       "      <td>08.03.2022</td>\n",
       "      <td>12.702</td>\n",
       "      <td>5895</td>\n",
       "    </tr>\n",
       "    <tr>\n",
       "      <th>13</th>\n",
       "      <td>07.03.2022</td>\n",
       "      <td>10.566</td>\n",
       "      <td>0</td>\n",
       "      <td>07.03.2022</td>\n",
       "      <td>12.420</td>\n",
       "      <td>320</td>\n",
       "      <td>07.03.2022</td>\n",
       "      <td>13.900</td>\n",
       "      <td>29553</td>\n",
       "      <td>07.03.2022</td>\n",
       "      <td>12.842</td>\n",
       "      <td>8926</td>\n",
       "    </tr>\n",
       "    <tr>\n",
       "      <th>14</th>\n",
       "      <td>04.03.2022</td>\n",
       "      <td>10.846</td>\n",
       "      <td>0</td>\n",
       "      <td>04.03.2022</td>\n",
       "      <td>13.230</td>\n",
       "      <td>11890</td>\n",
       "      <td>04.03.2022</td>\n",
       "      <td>14.320</td>\n",
       "      <td>44534</td>\n",
       "      <td>04.03.2022</td>\n",
       "      <td>13.188</td>\n",
       "      <td>3561</td>\n",
       "    </tr>\n",
       "    <tr>\n",
       "      <th>15</th>\n",
       "      <td>03.03.2022</td>\n",
       "      <td>11.206</td>\n",
       "      <td>3079</td>\n",
       "      <td>03.03.2022</td>\n",
       "      <td>13.606</td>\n",
       "      <td>1322</td>\n",
       "      <td>03.03.2022</td>\n",
       "      <td>15.010</td>\n",
       "      <td>62495</td>\n",
       "      <td>03.03.2022</td>\n",
       "      <td>13.716</td>\n",
       "      <td>5778</td>\n",
       "    </tr>\n",
       "    <tr>\n",
       "      <th>16</th>\n",
       "      <td>02.03.2022</td>\n",
       "      <td>11.792</td>\n",
       "      <td>826</td>\n",
       "      <td>02.03.2022</td>\n",
       "      <td>14.060</td>\n",
       "      <td>1403</td>\n",
       "      <td>02.03.2022</td>\n",
       "      <td>15.646</td>\n",
       "      <td>28034</td>\n",
       "      <td>02.03.2022</td>\n",
       "      <td>14.536</td>\n",
       "      <td>12567</td>\n",
       "    </tr>\n",
       "    <tr>\n",
       "      <th>17</th>\n",
       "      <td>01.03.2022</td>\n",
       "      <td>11.564</td>\n",
       "      <td>5959</td>\n",
       "      <td>01.03.2022</td>\n",
       "      <td>13.896</td>\n",
       "      <td>3047</td>\n",
       "      <td>01.03.2022</td>\n",
       "      <td>15.334</td>\n",
       "      <td>95879</td>\n",
       "      <td>01.03.2022</td>\n",
       "      <td>14.166</td>\n",
       "      <td>12489</td>\n",
       "    </tr>\n",
       "    <tr>\n",
       "      <th>18</th>\n",
       "      <td>28.02.2022</td>\n",
       "      <td>10.172</td>\n",
       "      <td>816</td>\n",
       "      <td>28.02.2022</td>\n",
       "      <td>12.924</td>\n",
       "      <td>1523</td>\n",
       "      <td>28.02.2022</td>\n",
       "      <td>14.496</td>\n",
       "      <td>105703</td>\n",
       "      <td>28.02.2022</td>\n",
       "      <td>13.200</td>\n",
       "      <td>2097</td>\n",
       "    </tr>\n",
       "    <tr>\n",
       "      <th>19</th>\n",
       "      <td>25.02.2022</td>\n",
       "      <td>10.106</td>\n",
       "      <td>4899</td>\n",
       "      <td>25.02.2022</td>\n",
       "      <td>12.194</td>\n",
       "      <td>425</td>\n",
       "      <td>25.02.2022</td>\n",
       "      <td>13.924</td>\n",
       "      <td>71307</td>\n",
       "      <td>25.02.2022</td>\n",
       "      <td>12.856</td>\n",
       "      <td>12280</td>\n",
       "    </tr>\n",
       "    <tr>\n",
       "      <th>20</th>\n",
       "      <td>24.02.2022</td>\n",
       "      <td>9.419</td>\n",
       "      <td>10106</td>\n",
       "      <td>24.02.2022</td>\n",
       "      <td>11.276</td>\n",
       "      <td>17571</td>\n",
       "      <td>24.02.2022</td>\n",
       "      <td>12.664</td>\n",
       "      <td>156301</td>\n",
       "      <td>24.02.2022</td>\n",
       "      <td>11.744</td>\n",
       "      <td>20390</td>\n",
       "    </tr>\n",
       "    <tr>\n",
       "      <th>21</th>\n",
       "      <td>23.02.2022</td>\n",
       "      <td>10.020</td>\n",
       "      <td>4709</td>\n",
       "      <td>23.02.2022</td>\n",
       "      <td>12.020</td>\n",
       "      <td>4609</td>\n",
       "      <td>23.02.2022</td>\n",
       "      <td>13.522</td>\n",
       "      <td>47637</td>\n",
       "      <td>23.02.2022</td>\n",
       "      <td>12.470</td>\n",
       "      <td>8375</td>\n",
       "    </tr>\n",
       "    <tr>\n",
       "      <th>22</th>\n",
       "      <td>22.02.2022</td>\n",
       "      <td>9.776</td>\n",
       "      <td>0</td>\n",
       "      <td>22.02.2022</td>\n",
       "      <td>11.504</td>\n",
       "      <td>400</td>\n",
       "      <td>22.02.2022</td>\n",
       "      <td>13.292</td>\n",
       "      <td>93023</td>\n",
       "      <td>22.02.2022</td>\n",
       "      <td>12.230</td>\n",
       "      <td>6004</td>\n",
       "    </tr>\n",
       "    <tr>\n",
       "      <th>23</th>\n",
       "      <td>21.02.2022</td>\n",
       "      <td>10.104</td>\n",
       "      <td>1000</td>\n",
       "      <td>21.02.2022</td>\n",
       "      <td>11.892</td>\n",
       "      <td>881</td>\n",
       "      <td>21.02.2022</td>\n",
       "      <td>13.750</td>\n",
       "      <td>69796</td>\n",
       "      <td>21.02.2022</td>\n",
       "      <td>12.568</td>\n",
       "      <td>11387</td>\n",
       "    </tr>\n",
       "    <tr>\n",
       "      <th>24</th>\n",
       "      <td>18.02.2022</td>\n",
       "      <td>10.300</td>\n",
       "      <td>95</td>\n",
       "      <td>18.02.2022</td>\n",
       "      <td>12.490</td>\n",
       "      <td>2143</td>\n",
       "      <td>18.02.2022</td>\n",
       "      <td>14.132</td>\n",
       "      <td>313311</td>\n",
       "      <td>18.02.2022</td>\n",
       "      <td>13.012</td>\n",
       "      <td>3580</td>\n",
       "    </tr>\n",
       "    <tr>\n",
       "      <th>25</th>\n",
       "      <td>17.02.2022</td>\n",
       "      <td>10.978</td>\n",
       "      <td>816</td>\n",
       "      <td>17.02.2022</td>\n",
       "      <td>13.074</td>\n",
       "      <td>1264</td>\n",
       "      <td>17.02.2022</td>\n",
       "      <td>14.822</td>\n",
       "      <td>18716</td>\n",
       "      <td>17.02.2022</td>\n",
       "      <td>13.582</td>\n",
       "      <td>7110</td>\n",
       "    </tr>\n",
       "    <tr>\n",
       "      <th>26</th>\n",
       "      <td>16.02.2022</td>\n",
       "      <td>11.316</td>\n",
       "      <td>0</td>\n",
       "      <td>16.02.2022</td>\n",
       "      <td>13.476</td>\n",
       "      <td>11275</td>\n",
       "      <td>16.02.2022</td>\n",
       "      <td>15.378</td>\n",
       "      <td>11731</td>\n",
       "      <td>16.02.2022</td>\n",
       "      <td>14.134</td>\n",
       "      <td>3550</td>\n",
       "    </tr>\n",
       "    <tr>\n",
       "      <th>27</th>\n",
       "      <td>15.02.2022</td>\n",
       "      <td>11.482</td>\n",
       "      <td>0</td>\n",
       "      <td>15.02.2022</td>\n",
       "      <td>13.750</td>\n",
       "      <td>981</td>\n",
       "      <td>15.02.2022</td>\n",
       "      <td>15.542</td>\n",
       "      <td>211889</td>\n",
       "      <td>15.02.2022</td>\n",
       "      <td>14.498</td>\n",
       "      <td>6300</td>\n",
       "    </tr>\n",
       "    <tr>\n",
       "      <th>28</th>\n",
       "      <td>14.02.2022</td>\n",
       "      <td>11.170</td>\n",
       "      <td>0</td>\n",
       "      <td>14.02.2022</td>\n",
       "      <td>13.270</td>\n",
       "      <td>2</td>\n",
       "      <td>14.02.2022</td>\n",
       "      <td>15.094</td>\n",
       "      <td>182183</td>\n",
       "      <td>14.02.2022</td>\n",
       "      <td>13.858</td>\n",
       "      <td>2035</td>\n",
       "    </tr>\n",
       "    <tr>\n",
       "      <th>29</th>\n",
       "      <td>11.02.2022</td>\n",
       "      <td>11.310</td>\n",
       "      <td>0</td>\n",
       "      <td>11.02.2022</td>\n",
       "      <td>13.486</td>\n",
       "      <td>0</td>\n",
       "      <td>11.02.2022</td>\n",
       "      <td>15.374</td>\n",
       "      <td>52163</td>\n",
       "      <td>11.02.2022</td>\n",
       "      <td>14.224</td>\n",
       "      <td>4187</td>\n",
       "    </tr>\n",
       "  </tbody>\n",
       "</table>\n",
       "</div>"
      ],
      "text/plain": [
       "            GBP                         EUR                         USD  \\\n",
       "           Date   Price Volume         Date   Price Volume         Date   \n",
       "0    24.03.2022  11.472      4   24.03.2022  13.734    301   24.03.2022   \n",
       "1    23.03.2022  11.196      6   23.03.2022  13.620      0   23.03.2022   \n",
       "2    22.03.2022  11.450      9   22.03.2022  13.530    500   22.03.2022   \n",
       "3    21.03.2022  11.052      2   21.03.2022  13.180   1890   21.03.2022   \n",
       "4    18.03.2022  11.024      0   18.03.2022  13.132      0   18.03.2022   \n",
       "5    17.03.2022  10.984      4   17.03.2022  12.938      0   17.03.2022   \n",
       "6    16.03.2022  10.954   4119   16.03.2022  13.018   7936   16.03.2022   \n",
       "7    15.03.2022  10.392      2   15.03.2022  12.372      7   15.03.2022   \n",
       "8    14.03.2022  10.496      0   14.03.2022  12.626   4601   14.03.2022   \n",
       "9    11.03.2022  10.422      0   11.03.2022  12.546    139   11.03.2022   \n",
       "10   10.03.2022  10.434   1072   10.03.2022  12.506    648   10.03.2022   \n",
       "11   09.03.2022  11.336      0   09.03.2022  13.572    262   09.03.2022   \n",
       "12   08.03.2022  10.318      0   08.03.2022  12.528    538   08.03.2022   \n",
       "13   07.03.2022  10.566      0   07.03.2022  12.420    320   07.03.2022   \n",
       "14   04.03.2022  10.846      0   04.03.2022  13.230  11890   04.03.2022   \n",
       "15   03.03.2022  11.206   3079   03.03.2022  13.606   1322   03.03.2022   \n",
       "16   02.03.2022  11.792    826   02.03.2022  14.060   1403   02.03.2022   \n",
       "17   01.03.2022  11.564   5959   01.03.2022  13.896   3047   01.03.2022   \n",
       "18   28.02.2022  10.172    816   28.02.2022  12.924   1523   28.02.2022   \n",
       "19   25.02.2022  10.106   4899   25.02.2022  12.194    425   25.02.2022   \n",
       "20   24.02.2022   9.419  10106   24.02.2022  11.276  17571   24.02.2022   \n",
       "21   23.02.2022  10.020   4709   23.02.2022  12.020   4609   23.02.2022   \n",
       "22   22.02.2022   9.776      0   22.02.2022  11.504    400   22.02.2022   \n",
       "23   21.02.2022  10.104   1000   21.02.2022  11.892    881   21.02.2022   \n",
       "24   18.02.2022  10.300     95   18.02.2022  12.490   2143   18.02.2022   \n",
       "25   17.02.2022  10.978    816   17.02.2022  13.074   1264   17.02.2022   \n",
       "26   16.02.2022  11.316      0   16.02.2022  13.476  11275   16.02.2022   \n",
       "27   15.02.2022  11.482      0   15.02.2022  13.750    981   15.02.2022   \n",
       "28   14.02.2022  11.170      0   14.02.2022  13.270      2   14.02.2022   \n",
       "29   11.02.2022  11.310      0   11.02.2022  13.486      0   11.02.2022   \n",
       "\n",
       "                            CHF                 \n",
       "     Price  Volume         Date   Price Volume  \n",
       "0   15.422   30184   24.03.2022  14.350   2664  \n",
       "1   15.080   73138   23.03.2022  13.942   1375  \n",
       "2   14.990   49741   22.03.2022  14.000   3812  \n",
       "3   14.500   68929   21.03.2022  13.502   1146  \n",
       "4   14.526   29049   18.03.2022  13.370   2530  \n",
       "5   14.350   55561   17.03.2022  13.488   4080  \n",
       "6   14.208   88114   16.03.2022  13.434   5787  \n",
       "7   13.704   36793   15.03.2022  12.820    475  \n",
       "8   13.700    8221   14.03.2022  12.860   3844  \n",
       "9   13.856   55383   11.03.2022  12.840   1440  \n",
       "10  13.778   26094   10.03.2022  12.790  15945  \n",
       "11  15.000  371713   09.03.2022  13.798   5391  \n",
       "12  13.508   20505   08.03.2022  12.702   5895  \n",
       "13  13.900   29553   07.03.2022  12.842   8926  \n",
       "14  14.320   44534   04.03.2022  13.188   3561  \n",
       "15  15.010   62495   03.03.2022  13.716   5778  \n",
       "16  15.646   28034   02.03.2022  14.536  12567  \n",
       "17  15.334   95879   01.03.2022  14.166  12489  \n",
       "18  14.496  105703   28.02.2022  13.200   2097  \n",
       "19  13.924   71307   25.02.2022  12.856  12280  \n",
       "20  12.664  156301   24.02.2022  11.744  20390  \n",
       "21  13.522   47637   23.02.2022  12.470   8375  \n",
       "22  13.292   93023   22.02.2022  12.230   6004  \n",
       "23  13.750   69796   21.02.2022  12.568  11387  \n",
       "24  14.132  313311   18.02.2022  13.012   3580  \n",
       "25  14.822   18716   17.02.2022  13.582   7110  \n",
       "26  15.378   11731   16.02.2022  14.134   3550  \n",
       "27  15.542  211889   15.02.2022  14.498   6300  \n",
       "28  15.094  182183   14.02.2022  13.858   2035  \n",
       "29  15.374   52163   11.02.2022  14.224   4187  "
      ]
     },
     "execution_count": 152,
     "metadata": {},
     "output_type": "execute_result"
    }
   ],
   "source": [
    "master[0:30]"
   ]
  },
  {
   "cell_type": "code",
   "execution_count": 153,
   "metadata": {},
   "outputs": [
    {
     "data": {
      "image/png": "[encoded data removed]",
      "text/plain": [
       "<Figure size 864x432 with 1 Axes>"
      ]
     },
     "metadata": {},
     "output_type": "display_data"
    }
   ],
   "source": [
    "for i, v in enumerate(markets):\n",
    "    # Plot volume of each pair\n",
    "\n",
    "    plot = sns.lineplot(x=v.index, y=v['Volume'], label = markets_names[i])\n",
    "    plot.set_xlabel('Index / Time')\n",
    "    plot.set_ylabel('Volume')\n",
    "    plot.set_title('Most recent dates are towards the origin')\n",
    "    # plot.invert_xaxis()\n",
    "\n",
    "# from functions import sns_lineplot\n",
    "# sns_lineplot(markets, markets_names)\n"
   ]
  },
  {
   "cell_type": "code",
   "execution_count": 154,
   "metadata": {},
   "outputs": [
    {
     "data": {
      "image/png": "[encoded data removed]",
      "text/plain": [
       "<Figure size 864x432 with 1 Axes>"
      ]
     },
     "metadata": {},
     "output_type": "display_data"
    }
   ],
   "source": [
    "for i, v in enumerate(markets):\n",
    "    # Plot volume of each pair with seaborn\n",
    "    plot = sns.scatterplot(x=v.index, y=(v['Volume']), label = markets_names[i])\n",
    "    plot.set_xlabel('Index / Volume')\n",
    "    plot.set_ylabel('Volume')\n",
    "    plot.set_title('Most recent dates are towards the origin')\n"
   ]
  },
  {
   "cell_type": "markdown",
   "metadata": {},
   "source": [
    "#### Manipulation\n",
    "Let's manipulate the original data so that the log plot of volume correctly shows zero days where they actually are.  \n",
    "  \n",
    "**Math nerd question: What problems are we going to encounter very shortly?**"
   ]
  },
  {
   "cell_type": "code",
   "execution_count": 155,
   "metadata": {},
   "outputs": [
    {
     "data": {
      "image/png": "[encoded data removed]",
      "text/plain": [
       "<Figure size 864x432 with 1 Axes>"
      ]
     },
     "metadata": {},
     "output_type": "display_data"
    }
   ],
   "source": [
    "for df in markets:\n",
    "    # replace 0 with 1\n",
    "    df['Volume'] = df['Volume'].replace(0, 1)\n",
    "\n",
    "for i, v in enumerate(markets):\n",
    "    # Plot volume of each pair with seaborn\n",
    "    plot = sns.scatterplot(x=v.index, y=np.log(v['Volume']), label = markets_names[i])\n",
    "    # Add regression line for each pair\n",
    "    # We can skip confidence interval\n",
    "    plot = sns.regplot(x=v.index, y=np.log(v['Volume']), ci=False)\n",
    "    plot.set_xlabel('Index / Time')\n",
    "    plot.set_ylabel('Log (Volume)')\n",
    "    plot.set_title('Most recent dates are towards the origin')"
   ]
  },
  {
   "cell_type": "markdown",
   "metadata": {},
   "source": [
    "#### Takeaways\n",
    "USD has the most volume, followed by CHF.  \n",
    "This is in line with my expectation.  \n",
    "The Euro has move volume than the Pound, but they both have some days with zero volume.  \n",
    "I suspect this is reporting error.\n",
    "\n",
    "Is there any correlation between the currencies?"
   ]
  },
  {
   "cell_type": "code",
   "execution_count": 156,
   "metadata": {},
   "outputs": [],
   "source": [
    "# Are the volumes correlated?\n",
    "# plot correlation matrix\n",
    "volume_only = pd.DataFrame()\n",
    "for i, v in enumerate(markets):\n",
    "    volume_only[markets_names[i]] = v['Volume']"
   ]
  },
  {
   "cell_type": "code",
   "execution_count": 157,
   "metadata": {},
   "outputs": [
    {
     "data": {
      "text/plain": [
       "<AxesSubplot:>"
      ]
     },
     "execution_count": 157,
     "metadata": {},
     "output_type": "execute_result"
    },
    {
     "data": {
      "image/png": "[encoded data removed]",
      "text/plain": [
       "<Figure size 792x648 with 2 Axes>"
      ]
     },
     "metadata": {},
     "output_type": "display_data"
    }
   ],
   "source": [
    "# plot correlation matrix\n",
    "corr = volume_only.corr()\n",
    "\n",
    "# Set up the matplotlib figure\n",
    "f, ax = plt.subplots(figsize=(11, 9))\n",
    "\n",
    "# Generate a custom diverging colormap\n",
    "cmap = sns.diverging_palette(100, 20, as_cmap=True)\n",
    "\n",
    "# Draw the heatmap with the mask and correct aspect ratio\n",
    "mask = np.triu(np.ones_like(corr, dtype=bool))\n",
    "sns.heatmap(corr, mask=mask, cmap=cmap, vmax=1, center=0,\n",
    "            square=True, linewidths=10)"
   ]
  },
  {
   "cell_type": "code",
   "execution_count": 158,
   "metadata": {},
   "outputs": [
    {
     "data": {
      "text/html": [
       "<div>\n",
       "<style scoped>\n",
       "    .dataframe tbody tr th:only-of-type {\n",
       "        vertical-align: middle;\n",
       "    }\n",
       "\n",
       "    .dataframe tbody tr th {\n",
       "        vertical-align: top;\n",
       "    }\n",
       "\n",
       "    .dataframe thead th {\n",
       "        text-align: right;\n",
       "    }\n",
       "</style>\n",
       "<table border=\"1\" class=\"dataframe\">\n",
       "  <thead>\n",
       "    <tr style=\"text-align: right;\">\n",
       "      <th></th>\n",
       "      <th>GBP</th>\n",
       "      <th>EUR</th>\n",
       "      <th>USD</th>\n",
       "      <th>CHF</th>\n",
       "    </tr>\n",
       "  </thead>\n",
       "  <tbody>\n",
       "    <tr>\n",
       "      <th>GBP</th>\n",
       "      <td>1.000000</td>\n",
       "      <td>0.705659</td>\n",
       "      <td>0.381376</td>\n",
       "      <td>0.314623</td>\n",
       "    </tr>\n",
       "    <tr>\n",
       "      <th>EUR</th>\n",
       "      <td>0.705659</td>\n",
       "      <td>1.000000</td>\n",
       "      <td>0.347159</td>\n",
       "      <td>0.242031</td>\n",
       "    </tr>\n",
       "    <tr>\n",
       "      <th>USD</th>\n",
       "      <td>0.381376</td>\n",
       "      <td>0.347159</td>\n",
       "      <td>1.000000</td>\n",
       "      <td>0.336213</td>\n",
       "    </tr>\n",
       "    <tr>\n",
       "      <th>CHF</th>\n",
       "      <td>0.314623</td>\n",
       "      <td>0.242031</td>\n",
       "      <td>0.336213</td>\n",
       "      <td>1.000000</td>\n",
       "    </tr>\n",
       "  </tbody>\n",
       "</table>\n",
       "</div>"
      ],
      "text/plain": [
       "          GBP       EUR       USD       CHF\n",
       "GBP  1.000000  0.705659  0.381376  0.314623\n",
       "EUR  0.705659  1.000000  0.347159  0.242031\n",
       "USD  0.381376  0.347159  1.000000  0.336213\n",
       "CHF  0.314623  0.242031  0.336213  1.000000"
      ]
     },
     "execution_count": 158,
     "metadata": {},
     "output_type": "execute_result"
    }
   ],
   "source": [
    "# Check correlation values\n",
    "corr"
   ]
  },
  {
   "cell_type": "markdown",
   "metadata": {},
   "source": [
    "The correlation between GBP and EUR volume is ~0.7; suspect that this is largely caused be the zero values."
   ]
  },
  {
   "cell_type": "markdown",
   "metadata": {},
   "source": [
    " ##### Alternatives?\n",
    " What about turnover (volume * price) instead of only looking at share volume?\n",
    " \n",
    " Recall, though, that we are essentially comparing the same underlying across multiple markets, so one share is one share is one share.\n",
    "\n",
    " We could look at exchange rates at a minimum to see where there is more investigation warranted.\n",
    "\n",
    " I am confident that there are periodic arbitrage opportunities here, but that is well outside of the scope of this presentation.\n"
   ]
  },
  {
   "cell_type": "markdown",
   "metadata": {},
   "source": [
    "## Initialization: Intra-Day Data"
   ]
  },
  {
   "cell_type": "code",
   "execution_count": 159,
   "metadata": {},
   "outputs": [],
   "source": [
    "# Data directory\n",
    "data_dir = Path() / 'intraday_data'\n",
    "\n",
    "# Create dict of dataframes from data_dir\n",
    "\n",
    "for file in data_dir.glob('*.csv'):\n",
    "    # Semicolon delimited, and skip two lines for simplicity\n",
    "    # There is only one file in this folder.\n",
    "    # https://www.six-group.com/en/products-services/the-swiss-stock-exchange/market-data/etp/etp-explorer/etp-detail.CH0454664001USD4.html#/\n",
    "    df = pd.read_csv(file, sep=';', skiprows=2)"
   ]
  },
  {
   "cell_type": "markdown",
   "metadata": {},
   "source": [
    "#### Trading hours\n",
    "SIX trading hours are from 0900 to 1720 GMT +1, so let's take a look at the intra-day trades on the 24th of March."
   ]
  },
  {
   "cell_type": "code",
   "execution_count": 160,
   "metadata": {},
   "outputs": [
    {
     "data": {
      "text/html": [
       "<div>\n",
       "<style scoped>\n",
       "    .dataframe tbody tr th:only-of-type {\n",
       "        vertical-align: middle;\n",
       "    }\n",
       "\n",
       "    .dataframe tbody tr th {\n",
       "        vertical-align: top;\n",
       "    }\n",
       "\n",
       "    .dataframe thead th {\n",
       "        text-align: right;\n",
       "    }\n",
       "</style>\n",
       "<table border=\"1\" class=\"dataframe\">\n",
       "  <thead>\n",
       "    <tr style=\"text-align: right;\">\n",
       "      <th></th>\n",
       "      <th>Time</th>\n",
       "      <th>Price</th>\n",
       "      <th>Volume</th>\n",
       "    </tr>\n",
       "  </thead>\n",
       "  <tbody>\n",
       "    <tr>\n",
       "      <th>0</th>\n",
       "      <td>17:27:53.51</td>\n",
       "      <td>15.498</td>\n",
       "      <td>120</td>\n",
       "    </tr>\n",
       "    <tr>\n",
       "      <th>1</th>\n",
       "      <td>17:19:58.73</td>\n",
       "      <td>15.550</td>\n",
       "      <td>145</td>\n",
       "    </tr>\n",
       "    <tr>\n",
       "      <th>2</th>\n",
       "      <td>17:19:58.73</td>\n",
       "      <td>15.538</td>\n",
       "      <td>500</td>\n",
       "    </tr>\n",
       "    <tr>\n",
       "      <th>3</th>\n",
       "      <td>16:53:58.42</td>\n",
       "      <td>15.474</td>\n",
       "      <td>200</td>\n",
       "    </tr>\n",
       "    <tr>\n",
       "      <th>4</th>\n",
       "      <td>16:37:03.84</td>\n",
       "      <td>15.470</td>\n",
       "      <td>1300</td>\n",
       "    </tr>\n",
       "    <tr>\n",
       "      <th>5</th>\n",
       "      <td>16:37:03.84</td>\n",
       "      <td>15.460</td>\n",
       "      <td>500</td>\n",
       "    </tr>\n",
       "    <tr>\n",
       "      <th>6</th>\n",
       "      <td>16:34:41.71</td>\n",
       "      <td>15.432</td>\n",
       "      <td>2000</td>\n",
       "    </tr>\n",
       "    <tr>\n",
       "      <th>7</th>\n",
       "      <td>16:34:41.71</td>\n",
       "      <td>15.446</td>\n",
       "      <td>500</td>\n",
       "    </tr>\n",
       "    <tr>\n",
       "      <th>8</th>\n",
       "      <td>16:17:38.35</td>\n",
       "      <td>15.422</td>\n",
       "      <td>1702</td>\n",
       "    </tr>\n",
       "    <tr>\n",
       "      <th>9</th>\n",
       "      <td>15:56:34.29</td>\n",
       "      <td>15.312</td>\n",
       "      <td>342</td>\n",
       "    </tr>\n",
       "    <tr>\n",
       "      <th>10</th>\n",
       "      <td>15:47:17.33</td>\n",
       "      <td>15.400</td>\n",
       "      <td>15</td>\n",
       "    </tr>\n",
       "    <tr>\n",
       "      <th>11</th>\n",
       "      <td>15:47:17.32</td>\n",
       "      <td>15.350</td>\n",
       "      <td>3800</td>\n",
       "    </tr>\n",
       "    <tr>\n",
       "      <th>12</th>\n",
       "      <td>14:53:08.05</td>\n",
       "      <td>15.088</td>\n",
       "      <td>250</td>\n",
       "    </tr>\n",
       "    <tr>\n",
       "      <th>13</th>\n",
       "      <td>13:53:50.16</td>\n",
       "      <td>15.112</td>\n",
       "      <td>290</td>\n",
       "    </tr>\n",
       "    <tr>\n",
       "      <th>14</th>\n",
       "      <td>12:48:57.62</td>\n",
       "      <td>15.124</td>\n",
       "      <td>1306</td>\n",
       "    </tr>\n",
       "    <tr>\n",
       "      <th>15</th>\n",
       "      <td>12:48:17.95</td>\n",
       "      <td>15.132</td>\n",
       "      <td>500</td>\n",
       "    </tr>\n",
       "    <tr>\n",
       "      <th>16</th>\n",
       "      <td>12:47:52.97</td>\n",
       "      <td>14.932</td>\n",
       "      <td>1806</td>\n",
       "    </tr>\n",
       "    <tr>\n",
       "      <th>17</th>\n",
       "      <td>12:47:52.95</td>\n",
       "      <td>15.004</td>\n",
       "      <td>1701</td>\n",
       "    </tr>\n",
       "    <tr>\n",
       "      <th>18</th>\n",
       "      <td>12:47:52.95</td>\n",
       "      <td>15.102</td>\n",
       "      <td>593</td>\n",
       "    </tr>\n",
       "    <tr>\n",
       "      <th>19</th>\n",
       "      <td>12:47:52.95</td>\n",
       "      <td>15.128</td>\n",
       "      <td>4009</td>\n",
       "    </tr>\n",
       "    <tr>\n",
       "      <th>20</th>\n",
       "      <td>10:46:58.98</td>\n",
       "      <td>15.130</td>\n",
       "      <td>1030</td>\n",
       "    </tr>\n",
       "    <tr>\n",
       "      <th>21</th>\n",
       "      <td>10:46:58.96</td>\n",
       "      <td>15.148</td>\n",
       "      <td>500</td>\n",
       "    </tr>\n",
       "    <tr>\n",
       "      <th>22</th>\n",
       "      <td>10:23:34.53</td>\n",
       "      <td>15.198</td>\n",
       "      <td>42</td>\n",
       "    </tr>\n",
       "    <tr>\n",
       "      <th>23</th>\n",
       "      <td>10:18:58.09</td>\n",
       "      <td>15.180</td>\n",
       "      <td>198</td>\n",
       "    </tr>\n",
       "    <tr>\n",
       "      <th>24</th>\n",
       "      <td>10:16:58.34</td>\n",
       "      <td>15.194</td>\n",
       "      <td>200</td>\n",
       "    </tr>\n",
       "    <tr>\n",
       "      <th>25</th>\n",
       "      <td>10:16:58.34</td>\n",
       "      <td>15.176</td>\n",
       "      <td>500</td>\n",
       "    </tr>\n",
       "    <tr>\n",
       "      <th>26</th>\n",
       "      <td>09:23:40.69</td>\n",
       "      <td>15.170</td>\n",
       "      <td>200</td>\n",
       "    </tr>\n",
       "    <tr>\n",
       "      <th>27</th>\n",
       "      <td>09:23:40.69</td>\n",
       "      <td>15.156</td>\n",
       "      <td>500</td>\n",
       "    </tr>\n",
       "    <tr>\n",
       "      <th>28</th>\n",
       "      <td>09:21:02.36</td>\n",
       "      <td>15.150</td>\n",
       "      <td>500</td>\n",
       "    </tr>\n",
       "    <tr>\n",
       "      <th>29</th>\n",
       "      <td>09:11:47.97</td>\n",
       "      <td>15.190</td>\n",
       "      <td>388</td>\n",
       "    </tr>\n",
       "    <tr>\n",
       "      <th>30</th>\n",
       "      <td>09:11:47.97</td>\n",
       "      <td>15.190</td>\n",
       "      <td>5103</td>\n",
       "    </tr>\n",
       "    <tr>\n",
       "      <th>31</th>\n",
       "      <td>09:11:47.95</td>\n",
       "      <td>15.184</td>\n",
       "      <td>4009</td>\n",
       "    </tr>\n",
       "    <tr>\n",
       "      <th>32</th>\n",
       "      <td>09:11:47.95</td>\n",
       "      <td>15.172</td>\n",
       "      <td>500</td>\n",
       "    </tr>\n",
       "    <tr>\n",
       "      <th>33</th>\n",
       "      <td>09:00:56.00</td>\n",
       "      <td>15.194</td>\n",
       "      <td>200</td>\n",
       "    </tr>\n",
       "  </tbody>\n",
       "</table>\n",
       "</div>"
      ],
      "text/plain": [
       "           Time   Price  Volume\n",
       "0   17:27:53.51  15.498     120\n",
       "1   17:19:58.73  15.550     145\n",
       "2   17:19:58.73  15.538     500\n",
       "3   16:53:58.42  15.474     200\n",
       "4   16:37:03.84  15.470    1300\n",
       "5   16:37:03.84  15.460     500\n",
       "6   16:34:41.71  15.432    2000\n",
       "7   16:34:41.71  15.446     500\n",
       "8   16:17:38.35  15.422    1702\n",
       "9   15:56:34.29  15.312     342\n",
       "10  15:47:17.33  15.400      15\n",
       "11  15:47:17.32  15.350    3800\n",
       "12  14:53:08.05  15.088     250\n",
       "13  13:53:50.16  15.112     290\n",
       "14  12:48:57.62  15.124    1306\n",
       "15  12:48:17.95  15.132     500\n",
       "16  12:47:52.97  14.932    1806\n",
       "17  12:47:52.95  15.004    1701\n",
       "18  12:47:52.95  15.102     593\n",
       "19  12:47:52.95  15.128    4009\n",
       "20  10:46:58.98  15.130    1030\n",
       "21  10:46:58.96  15.148     500\n",
       "22  10:23:34.53  15.198      42\n",
       "23  10:18:58.09  15.180     198\n",
       "24  10:16:58.34  15.194     200\n",
       "25  10:16:58.34  15.176     500\n",
       "26  09:23:40.69  15.170     200\n",
       "27  09:23:40.69  15.156     500\n",
       "28  09:21:02.36  15.150     500\n",
       "29  09:11:47.97  15.190     388\n",
       "30  09:11:47.97  15.190    5103\n",
       "31  09:11:47.95  15.184    4009\n",
       "32  09:11:47.95  15.172     500\n",
       "33  09:00:56.00  15.194     200"
      ]
     },
     "execution_count": 160,
     "metadata": {},
     "output_type": "execute_result"
    }
   ],
   "source": [
    "df\n",
    "# I'll assume this 17:27 is after hours trading\n",
    "# It does seem correct that we have two trades immediately preceding the close at 17:19:58.73"
   ]
  },
  {
   "cell_type": "markdown",
   "metadata": {},
   "source": [
    "## Hypothesis  \n",
    " If we look at Binance Spot price movement, we can likely see the price of ABTC following BTCUSDT in short order.  \n",
    " \n",
    " **Question: How quickly do prices follow?**\n",
    "\n",
    " First, though, let's estimate it whether these reported volumes are buys or sells.  \n",
    " Simple logic:\n",
    " \n",
    "         DF['Pressure'] = BUY if next_price > current_price else SELL\n",
    "\n",
    "*Note for later: we will need to shift these times to match GMT + 1*"
   ]
  },
  {
   "cell_type": "code",
   "execution_count": 163,
   "metadata": {},
   "outputs": [
    {
     "data": {
      "text/html": [
       "<div>\n",
       "<style scoped>\n",
       "    .dataframe tbody tr th:only-of-type {\n",
       "        vertical-align: middle;\n",
       "    }\n",
       "\n",
       "    .dataframe tbody tr th {\n",
       "        vertical-align: top;\n",
       "    }\n",
       "\n",
       "    .dataframe thead th {\n",
       "        text-align: right;\n",
       "    }\n",
       "</style>\n",
       "<table border=\"1\" class=\"dataframe\">\n",
       "  <thead>\n",
       "    <tr style=\"text-align: right;\">\n",
       "      <th></th>\n",
       "      <th>Time</th>\n",
       "      <th>Price</th>\n",
       "      <th>Volume</th>\n",
       "      <th>Delta</th>\n",
       "    </tr>\n",
       "  </thead>\n",
       "  <tbody>\n",
       "    <tr>\n",
       "      <th>33</th>\n",
       "      <td>09:00:56.00</td>\n",
       "      <td>15.194</td>\n",
       "      <td>200</td>\n",
       "      <td>NaN</td>\n",
       "    </tr>\n",
       "    <tr>\n",
       "      <th>32</th>\n",
       "      <td>09:11:47.95</td>\n",
       "      <td>15.172</td>\n",
       "      <td>500</td>\n",
       "      <td>-0.001448</td>\n",
       "    </tr>\n",
       "    <tr>\n",
       "      <th>31</th>\n",
       "      <td>09:11:47.95</td>\n",
       "      <td>15.184</td>\n",
       "      <td>4009</td>\n",
       "      <td>0.000791</td>\n",
       "    </tr>\n",
       "    <tr>\n",
       "      <th>30</th>\n",
       "      <td>09:11:47.97</td>\n",
       "      <td>15.190</td>\n",
       "      <td>5103</td>\n",
       "      <td>0.000395</td>\n",
       "    </tr>\n",
       "    <tr>\n",
       "      <th>29</th>\n",
       "      <td>09:11:47.97</td>\n",
       "      <td>15.190</td>\n",
       "      <td>388</td>\n",
       "      <td>0.000000</td>\n",
       "    </tr>\n",
       "  </tbody>\n",
       "</table>\n",
       "</div>"
      ],
      "text/plain": [
       "           Time   Price  Volume     Delta\n",
       "33  09:00:56.00  15.194     200       NaN\n",
       "32  09:11:47.95  15.172     500 -0.001448\n",
       "31  09:11:47.95  15.184    4009  0.000791\n",
       "30  09:11:47.97  15.190    5103  0.000395\n",
       "29  09:11:47.97  15.190     388  0.000000"
      ]
     },
     "execution_count": 163,
     "metadata": {},
     "output_type": "execute_result"
    }
   ],
   "source": [
    "# note I am reversing the dataframe here because pct_change() is a forward looking function\n",
    "df = df[::-1]\n",
    "df['Delta'] = df['Price'].pct_change()\n",
    "df.head()\n"
   ]
  },
  {
   "cell_type": "code",
   "execution_count": 164,
   "metadata": {},
   "outputs": [
    {
     "name": "stdout",
     "output_type": "stream",
     "text": [
      "Let us look at the first few rows and see what happens at market open\n"
     ]
    },
    {
     "data": {
      "text/html": [
       "<div>\n",
       "<style scoped>\n",
       "    .dataframe tbody tr th:only-of-type {\n",
       "        vertical-align: middle;\n",
       "    }\n",
       "\n",
       "    .dataframe tbody tr th {\n",
       "        vertical-align: top;\n",
       "    }\n",
       "\n",
       "    .dataframe thead th {\n",
       "        text-align: right;\n",
       "    }\n",
       "</style>\n",
       "<table border=\"1\" class=\"dataframe\">\n",
       "  <thead>\n",
       "    <tr style=\"text-align: right;\">\n",
       "      <th></th>\n",
       "      <th>Time</th>\n",
       "      <th>Price</th>\n",
       "      <th>Volume</th>\n",
       "      <th>Delta</th>\n",
       "      <th>Pressure</th>\n",
       "    </tr>\n",
       "  </thead>\n",
       "  <tbody>\n",
       "    <tr>\n",
       "      <th>33</th>\n",
       "      <td>09:00:56.00</td>\n",
       "      <td>15.194</td>\n",
       "      <td>200</td>\n",
       "      <td>NaN</td>\n",
       "      <td>SELL</td>\n",
       "    </tr>\n",
       "    <tr>\n",
       "      <th>32</th>\n",
       "      <td>09:11:47.95</td>\n",
       "      <td>15.172</td>\n",
       "      <td>500</td>\n",
       "      <td>-0.001448</td>\n",
       "      <td>BUY</td>\n",
       "    </tr>\n",
       "    <tr>\n",
       "      <th>31</th>\n",
       "      <td>09:11:47.95</td>\n",
       "      <td>15.184</td>\n",
       "      <td>4009</td>\n",
       "      <td>0.000791</td>\n",
       "      <td>BUY</td>\n",
       "    </tr>\n",
       "    <tr>\n",
       "      <th>30</th>\n",
       "      <td>09:11:47.97</td>\n",
       "      <td>15.190</td>\n",
       "      <td>5103</td>\n",
       "      <td>0.000395</td>\n",
       "      <td>0</td>\n",
       "    </tr>\n",
       "    <tr>\n",
       "      <th>29</th>\n",
       "      <td>09:11:47.97</td>\n",
       "      <td>15.190</td>\n",
       "      <td>388</td>\n",
       "      <td>0.000000</td>\n",
       "      <td>SELL</td>\n",
       "    </tr>\n",
       "    <tr>\n",
       "      <th>28</th>\n",
       "      <td>09:21:02.36</td>\n",
       "      <td>15.150</td>\n",
       "      <td>500</td>\n",
       "      <td>-0.002633</td>\n",
       "      <td>BUY</td>\n",
       "    </tr>\n",
       "    <tr>\n",
       "      <th>27</th>\n",
       "      <td>09:23:40.69</td>\n",
       "      <td>15.156</td>\n",
       "      <td>500</td>\n",
       "      <td>0.000396</td>\n",
       "      <td>BUY</td>\n",
       "    </tr>\n",
       "    <tr>\n",
       "      <th>26</th>\n",
       "      <td>09:23:40.69</td>\n",
       "      <td>15.170</td>\n",
       "      <td>200</td>\n",
       "      <td>0.000924</td>\n",
       "      <td>BUY</td>\n",
       "    </tr>\n",
       "    <tr>\n",
       "      <th>25</th>\n",
       "      <td>10:16:58.34</td>\n",
       "      <td>15.176</td>\n",
       "      <td>500</td>\n",
       "      <td>0.000396</td>\n",
       "      <td>BUY</td>\n",
       "    </tr>\n",
       "    <tr>\n",
       "      <th>24</th>\n",
       "      <td>10:16:58.34</td>\n",
       "      <td>15.194</td>\n",
       "      <td>200</td>\n",
       "      <td>0.001186</td>\n",
       "      <td>SELL</td>\n",
       "    </tr>\n",
       "  </tbody>\n",
       "</table>\n",
       "</div>"
      ],
      "text/plain": [
       "           Time   Price  Volume     Delta Pressure\n",
       "33  09:00:56.00  15.194     200       NaN     SELL\n",
       "32  09:11:47.95  15.172     500 -0.001448      BUY\n",
       "31  09:11:47.95  15.184    4009  0.000791      BUY\n",
       "30  09:11:47.97  15.190    5103  0.000395        0\n",
       "29  09:11:47.97  15.190     388  0.000000     SELL\n",
       "28  09:21:02.36  15.150     500 -0.002633      BUY\n",
       "27  09:23:40.69  15.156     500  0.000396      BUY\n",
       "26  09:23:40.69  15.170     200  0.000924      BUY\n",
       "25  10:16:58.34  15.176     500  0.000396      BUY\n",
       "24  10:16:58.34  15.194     200  0.001186     SELL"
      ]
     },
     "execution_count": 164,
     "metadata": {},
     "output_type": "execute_result"
    }
   ],
   "source": [
    "# Add column 'Pressure' if 'Delta' is positive\n",
    "# df['Pressure'] = 'BUY' if df['Delta'] > 0 else 'SELL'     # truth error\n",
    "df['Pressure'] = np.where(df['Delta'] > 0, 'BUY', 'SELL')\n",
    "df['Pressure'] = np.where(df['Delta'] == 0, '0', df['Pressure'])\n",
    "# Shift pressure backwards once so it corresponds to the correct volume row\n",
    "df['Pressure'] = df['Pressure'].shift(-1)\n",
    "print('Let us look at the first few rows and see what happens at market open:')\n",
    "df.head(10)"
   ]
  },
  {
   "cell_type": "markdown",
   "metadata": {},
   "source": [
    "**Some thoughts:**  \n",
    "It looks like market maker or at minimum algo trading activity at 09:11:47.  \n",
    "This is probably the largest conjecture that I will make throughout the presentation."
   ]
  },
  {
   "cell_type": "code",
   "execution_count": 167,
   "metadata": {},
   "outputs": [
    {
     "name": "stdout",
     "output_type": "stream",
     "text": [
      "Index(['Time', 'Price', 'Volume', 'Delta', 'Pressure'], dtype='object')\n",
      "Index(['Time', 'Price', 'Volume', 'Delta', 'Pressure'], dtype='object')\n"
     ]
    },
    {
     "data": {
      "text/plain": [
       "12:47:52.95    3\n",
       "09:11:47.97    2\n",
       "17:19:58.73    2\n",
       "09:23:40.69    2\n",
       "10:16:58.34    2\n",
       "16:37:03.84    2\n",
       "16:34:41.71    2\n",
       "09:11:47.95    2\n",
       "09:00:56.00    1\n",
       "14:53:08.05    1\n",
       "Name: Time, dtype: int64"
      ]
     },
     "execution_count": 167,
     "metadata": {},
     "output_type": "execute_result"
    }
   ],
   "source": [
    "# List columns of df - something funny with trying to count the Time column\n",
    "print(df.columns)\n",
    "df.rename(columns={'        Time': 'Time'}, inplace=True)\n",
    "print(df.columns)\n",
    "df['Time'].value_counts().head(10)"
   ]
  },
  {
   "cell_type": "code",
   "execution_count": 168,
   "metadata": {},
   "outputs": [
    {
     "name": "stdout",
     "output_type": "stream",
     "text": [
      "           Time   Price  Volume     Delta Pressure\n",
      "19  12:47:52.95  15.128  4009.0 -0.000132     SELL\n",
      "18  12:47:52.95  15.102   593.0 -0.001719     SELL\n",
      "17  12:47:52.95  15.004  1701.0 -0.006489     SELL\n"
     ]
    }
   ],
   "source": [
    "# print lines where 'Time' == 12:47:52.95\n",
    "print(df.where(df['Time'] == '12:47:52.95').dropna())"
   ]
  },
  {
   "cell_type": "markdown",
   "metadata": {},
   "source": [
    "Wow!  \n",
    "There is a perfect example of slippage on this order.  \n",
    "So... How much is it?\n"
   ]
  },
  {
   "cell_type": "code",
   "execution_count": 169,
   "metadata": {},
   "outputs": [
    {
     "name": "stdout",
     "output_type": "stream",
     "text": [
      "Dollar volume is $95125.44\n"
     ]
    }
   ],
   "source": [
    "turnover = 15.128 * 4009 + 15.102 * 593 + 15.004 * 1701\n",
    "print(\"Dollar volume is ${0:.2f}\".format(turnover))"
   ]
  },
  {
   "cell_type": "markdown",
   "metadata": {},
   "source": [
    "A $95k transaction has moved the market by itself.  \n",
    "But by how much?  \n",
    "Not all of it was slippage, only about 1/3rd of the order was filled sub-par."
   ]
  },
  {
   "cell_type": "code",
   "execution_count": 170,
   "metadata": {},
   "outputs": [
    {
     "name": "stdout",
     "output_type": "stream",
     "text": [
      "Average Price is $15.092 compared to an initial fill at $15.128\n"
     ]
    }
   ],
   "source": [
    "avg_price = (15.128 * 4009 + 15.102 * 593 + 15.004 * 1701) / (4009 + 593 + 1701)\n",
    "print(\"Average Price is ${0:.3f} compared to an initial fill at $15.128\".format(avg_price))\n",
    "# slippage_per_share = (15.128 - avg_price) / (4009 + 593 + 1701)\n",
    "# slippage_per_share"
   ]
  },
  {
   "cell_type": "code",
   "execution_count": 172,
   "metadata": {},
   "outputs": [
    {
     "name": "stdout",
     "output_type": "stream",
     "text": [
      "Total USD slippage is: $226.34 out of $95125.44\n",
      "In percentage terms, this is 0.23794%\n",
      "\n",
      "The daily turnover is $539538.72\n"
     ]
    }
   ],
   "source": [
    "# total slippage =  expected * volume -  actual * volume\n",
    "total = 15.128 * (4009 + 593 + 1701) - avg_price * (4009 + 593 + 1701)\n",
    "print(\"Total USD slippage is: ${0:.2f} out of ${1:.2f}\".format(total, turnover))\n",
    "print(\"In percentage terms, this is {0:.5f}%\".format(total / turnover * 100))\n",
    "# Vectorize the following for speed\n",
    "daily_dollars = sum (df['Price'].to_numpy() * df['Volume'].to_numpy() )\n",
    "print('')\n",
    "print(\"The daily turnover is ${0:.2f}\".format(daily_dollars))"
   ]
  },
  {
   "cell_type": "markdown",
   "metadata": {},
   "source": [
    "### Conclusion\n",
    "Nearing a quarter of one percent is quite high.  \n",
    "I would be curious what the standard slippage amount is for a $100k order.  \n",
    "Suspect for the other currency pairs this number would be higher.    \n",
    "It is also worth noting that this transaction was almost 1/5th of the daily volume for this instrument.  \n",
    "\n",
    "*0.237% for nearly 1/5th of the daily volume, however, seems quite reasonable.*\n",
    "\n",
    "**Let's move on.**\n",
    "\n",
    "It's time to compare the ABTC price to the price of the underlying."
   ]
  },
  {
   "cell_type": "markdown",
   "metadata": {},
   "source": [
    "## Get Binance minute data for 24 March 2022\n",
    "I am using 5m candles here;  this will let us do some decent visual analysis inside the notebook without much hassle."
   ]
  },
  {
   "cell_type": "code",
   "execution_count": 174,
   "metadata": {},
   "outputs": [
    {
     "data": {
      "text/html": [
       "<div>\n",
       "<style scoped>\n",
       "    .dataframe tbody tr th:only-of-type {\n",
       "        vertical-align: middle;\n",
       "    }\n",
       "\n",
       "    .dataframe tbody tr th {\n",
       "        vertical-align: top;\n",
       "    }\n",
       "\n",
       "    .dataframe thead th {\n",
       "        text-align: right;\n",
       "    }\n",
       "</style>\n",
       "<table border=\"1\" class=\"dataframe\">\n",
       "  <thead>\n",
       "    <tr style=\"text-align: right;\">\n",
       "      <th></th>\n",
       "      <th>Open</th>\n",
       "      <th>High</th>\n",
       "      <th>Low</th>\n",
       "      <th>Close</th>\n",
       "      <th>Volume</th>\n",
       "      <th>taker_base_vol</th>\n",
       "    </tr>\n",
       "    <tr>\n",
       "      <th>datetime</th>\n",
       "      <th></th>\n",
       "      <th></th>\n",
       "      <th></th>\n",
       "      <th></th>\n",
       "      <th></th>\n",
       "      <th></th>\n",
       "    </tr>\n",
       "  </thead>\n",
       "  <tbody>\n",
       "    <tr>\n",
       "      <th>1.648094e+12</th>\n",
       "      <td>42712.87</td>\n",
       "      <td>42766.44</td>\n",
       "      <td>42712.87</td>\n",
       "      <td>42756.23</td>\n",
       "      <td>92.42798</td>\n",
       "      <td>43.76746</td>\n",
       "    </tr>\n",
       "    <tr>\n",
       "      <th>1.648095e+12</th>\n",
       "      <td>42756.22</td>\n",
       "      <td>42782.00</td>\n",
       "      <td>42741.36</td>\n",
       "      <td>42782.00</td>\n",
       "      <td>72.39337</td>\n",
       "      <td>26.69806</td>\n",
       "    </tr>\n",
       "    <tr>\n",
       "      <th>1.648095e+12</th>\n",
       "      <td>42781.99</td>\n",
       "      <td>42787.60</td>\n",
       "      <td>42755.68</td>\n",
       "      <td>42787.59</td>\n",
       "      <td>73.95845</td>\n",
       "      <td>24.14962</td>\n",
       "    </tr>\n",
       "    <tr>\n",
       "      <th>1.648095e+12</th>\n",
       "      <td>42787.60</td>\n",
       "      <td>42795.91</td>\n",
       "      <td>42746.71</td>\n",
       "      <td>42795.90</td>\n",
       "      <td>76.79435</td>\n",
       "      <td>33.99579</td>\n",
       "    </tr>\n",
       "    <tr>\n",
       "      <th>1.648096e+12</th>\n",
       "      <td>42795.90</td>\n",
       "      <td>42869.69</td>\n",
       "      <td>42788.49</td>\n",
       "      <td>42841.73</td>\n",
       "      <td>116.10707</td>\n",
       "      <td>55.99797</td>\n",
       "    </tr>\n",
       "  </tbody>\n",
       "</table>\n",
       "</div>"
      ],
      "text/plain": [
       "                  Open      High       Low     Close     Volume  \\\n",
       "datetime                                                          \n",
       "1.648094e+12  42712.87  42766.44  42712.87  42756.23   92.42798   \n",
       "1.648095e+12  42756.22  42782.00  42741.36  42782.00   72.39337   \n",
       "1.648095e+12  42781.99  42787.60  42755.68  42787.59   73.95845   \n",
       "1.648095e+12  42787.60  42795.91  42746.71  42795.90   76.79435   \n",
       "1.648096e+12  42795.90  42869.69  42788.49  42841.73  116.10707   \n",
       "\n",
       "              taker_base_vol  \n",
       "datetime                      \n",
       "1.648094e+12        43.76746  \n",
       "1.648095e+12        26.69806  \n",
       "1.648095e+12        24.14962  \n",
       "1.648095e+12        33.99579  \n",
       "1.648096e+12        55.99797  "
      ]
     },
     "execution_count": 174,
     "metadata": {},
     "output_type": "execute_result"
    }
   ],
   "source": [
    "# get binance minute data for 24 March 2022url = 'https://api.binance.com/api/v3/klines'\n",
    "import requests\n",
    "import json\n",
    "import datetime as dt\n",
    "url = 'https://api.binance.com/api/v3/klines'\n",
    "symbol = 'BTCUSDT'\n",
    "interval = '5m'\n",
    "start = str(int(dt.datetime(2022,3,24).timestamp()*1000))\n",
    "end = str(int(dt.datetime(2022,3,25).timestamp()*1000))\n",
    "par = {'symbol': symbol, 'interval': interval, 'startTime': start, 'endTime': end}\n",
    "data = pd.DataFrame(json.loads(requests.get(url, params= par).text))\n",
    "#format columns name\n",
    "data.columns = ['datetime', 'Open', 'High', 'Low', 'Close', 'Volume','close_time', 'qav', 'num_trades','taker_base_vol', 'taker_quote_vol', 'ignore']\n",
    "data.index = [dt.datetime.fromtimestamp(x/1000.0) for x in data.datetime]\n",
    "data=data.astype(float)\n",
    "# set index to datetime column\n",
    "data.index = data['datetime']\n",
    "# drop a few columns\n",
    "data = data.drop(['datetime', 'close_time', 'qav', 'num_trades','taker_quote_vol', 'ignore'], axis=1)\n",
    "data.head()"
   ]
  },
  {
   "cell_type": "markdown",
   "metadata": {},
   "source": [
    "Something strange about the above - how does taker_base_vol not equal 1/2 * Volume?  \n",
    "I wonder if Binance has so much volume that it sometimes pairs makers with makers?  \n",
    "Again, beyond the scope of this presentation.  Does anyone know?\n",
    "\n",
    "Don't forget - we are not in the same time zone."
   ]
  },
  {
   "cell_type": "code",
   "execution_count": 175,
   "metadata": {},
   "outputs": [
    {
     "data": {
      "text/html": [
       "<div>\n",
       "<style scoped>\n",
       "    .dataframe tbody tr th:only-of-type {\n",
       "        vertical-align: middle;\n",
       "    }\n",
       "\n",
       "    .dataframe tbody tr th {\n",
       "        vertical-align: top;\n",
       "    }\n",
       "\n",
       "    .dataframe thead th {\n",
       "        text-align: right;\n",
       "    }\n",
       "</style>\n",
       "<table border=\"1\" class=\"dataframe\">\n",
       "  <thead>\n",
       "    <tr style=\"text-align: right;\">\n",
       "      <th></th>\n",
       "      <th>Open</th>\n",
       "      <th>High</th>\n",
       "      <th>Low</th>\n",
       "      <th>Close</th>\n",
       "      <th>Volume</th>\n",
       "      <th>taker_base_vol</th>\n",
       "    </tr>\n",
       "    <tr>\n",
       "      <th>datetime</th>\n",
       "      <th></th>\n",
       "      <th></th>\n",
       "      <th></th>\n",
       "      <th></th>\n",
       "      <th></th>\n",
       "      <th></th>\n",
       "    </tr>\n",
       "  </thead>\n",
       "  <tbody>\n",
       "    <tr>\n",
       "      <th>2022-03-24 09:00:00</th>\n",
       "      <td>43077.75</td>\n",
       "      <td>43112.01</td>\n",
       "      <td>43001.00</td>\n",
       "      <td>43012.46</td>\n",
       "      <td>102.92280</td>\n",
       "      <td>42.83836</td>\n",
       "    </tr>\n",
       "    <tr>\n",
       "      <th>2022-03-24 09:05:00</th>\n",
       "      <td>43012.46</td>\n",
       "      <td>43058.52</td>\n",
       "      <td>42984.94</td>\n",
       "      <td>43044.13</td>\n",
       "      <td>253.48538</td>\n",
       "      <td>160.32600</td>\n",
       "    </tr>\n",
       "    <tr>\n",
       "      <th>2022-03-24 09:10:00</th>\n",
       "      <td>43044.14</td>\n",
       "      <td>43150.01</td>\n",
       "      <td>43010.11</td>\n",
       "      <td>43062.50</td>\n",
       "      <td>621.25349</td>\n",
       "      <td>237.49487</td>\n",
       "    </tr>\n",
       "    <tr>\n",
       "      <th>2022-03-24 09:15:00</th>\n",
       "      <td>43062.50</td>\n",
       "      <td>43079.48</td>\n",
       "      <td>42980.01</td>\n",
       "      <td>42983.24</td>\n",
       "      <td>148.80402</td>\n",
       "      <td>58.73886</td>\n",
       "    </tr>\n",
       "    <tr>\n",
       "      <th>2022-03-24 09:20:00</th>\n",
       "      <td>42983.25</td>\n",
       "      <td>43027.29</td>\n",
       "      <td>42975.56</td>\n",
       "      <td>43014.59</td>\n",
       "      <td>193.41688</td>\n",
       "      <td>120.13386</td>\n",
       "    </tr>\n",
       "    <tr>\n",
       "      <th>...</th>\n",
       "      <td>...</td>\n",
       "      <td>...</td>\n",
       "      <td>...</td>\n",
       "      <td>...</td>\n",
       "      <td>...</td>\n",
       "      <td>...</td>\n",
       "    </tr>\n",
       "    <tr>\n",
       "      <th>2022-03-24 17:35:00</th>\n",
       "      <td>43852.40</td>\n",
       "      <td>43945.86</td>\n",
       "      <td>43842.04</td>\n",
       "      <td>43891.93</td>\n",
       "      <td>218.95453</td>\n",
       "      <td>84.88079</td>\n",
       "    </tr>\n",
       "    <tr>\n",
       "      <th>2022-03-24 17:40:00</th>\n",
       "      <td>43891.93</td>\n",
       "      <td>43975.00</td>\n",
       "      <td>43872.50</td>\n",
       "      <td>43960.02</td>\n",
       "      <td>171.90991</td>\n",
       "      <td>63.21077</td>\n",
       "    </tr>\n",
       "    <tr>\n",
       "      <th>2022-03-24 17:45:00</th>\n",
       "      <td>43960.02</td>\n",
       "      <td>43962.48</td>\n",
       "      <td>43900.00</td>\n",
       "      <td>43903.04</td>\n",
       "      <td>132.61287</td>\n",
       "      <td>59.90926</td>\n",
       "    </tr>\n",
       "    <tr>\n",
       "      <th>2022-03-24 17:50:00</th>\n",
       "      <td>43903.04</td>\n",
       "      <td>43961.00</td>\n",
       "      <td>43900.00</td>\n",
       "      <td>43929.97</td>\n",
       "      <td>151.00147</td>\n",
       "      <td>61.99684</td>\n",
       "    </tr>\n",
       "    <tr>\n",
       "      <th>2022-03-24 17:55:00</th>\n",
       "      <td>43929.96</td>\n",
       "      <td>44057.61</td>\n",
       "      <td>43923.17</td>\n",
       "      <td>44002.19</td>\n",
       "      <td>207.57642</td>\n",
       "      <td>104.76105</td>\n",
       "    </tr>\n",
       "  </tbody>\n",
       "</table>\n",
       "<p>108 rows × 6 columns</p>\n",
       "</div>"
      ],
      "text/plain": [
       "                         Open      High       Low     Close     Volume  \\\n",
       "datetime                                                                 \n",
       "2022-03-24 09:00:00  43077.75  43112.01  43001.00  43012.46  102.92280   \n",
       "2022-03-24 09:05:00  43012.46  43058.52  42984.94  43044.13  253.48538   \n",
       "2022-03-24 09:10:00  43044.14  43150.01  43010.11  43062.50  621.25349   \n",
       "2022-03-24 09:15:00  43062.50  43079.48  42980.01  42983.24  148.80402   \n",
       "2022-03-24 09:20:00  42983.25  43027.29  42975.56  43014.59  193.41688   \n",
       "...                       ...       ...       ...       ...        ...   \n",
       "2022-03-24 17:35:00  43852.40  43945.86  43842.04  43891.93  218.95453   \n",
       "2022-03-24 17:40:00  43891.93  43975.00  43872.50  43960.02  171.90991   \n",
       "2022-03-24 17:45:00  43960.02  43962.48  43900.00  43903.04  132.61287   \n",
       "2022-03-24 17:50:00  43903.04  43961.00  43900.00  43929.97  151.00147   \n",
       "2022-03-24 17:55:00  43929.96  44057.61  43923.17  44002.19  207.57642   \n",
       "\n",
       "                     taker_base_vol  \n",
       "datetime                             \n",
       "2022-03-24 09:00:00        42.83836  \n",
       "2022-03-24 09:05:00       160.32600  \n",
       "2022-03-24 09:10:00       237.49487  \n",
       "2022-03-24 09:15:00        58.73886  \n",
       "2022-03-24 09:20:00       120.13386  \n",
       "...                             ...  \n",
       "2022-03-24 17:35:00        84.88079  \n",
       "2022-03-24 17:40:00        63.21077  \n",
       "2022-03-24 17:45:00        59.90926  \n",
       "2022-03-24 17:50:00        61.99684  \n",
       "2022-03-24 17:55:00       104.76105  \n",
       "\n",
       "[108 rows x 6 columns]"
      ]
     },
     "execution_count": 175,
     "metadata": {},
     "output_type": "execute_result"
    }
   ],
   "source": [
    "# Convert index to hh:mm:ss.ms\n",
    "# Shift one hour to get GMT +1\n",
    "data.index = pd.to_datetime(data.index, unit='ms').shift(1, freq='H')\n",
    "# drop outside of time frame 0900 - 1730\n",
    "data = data.loc[(data.index.hour >= 9) & (data.index.hour <= 17)]\n",
    "data"
   ]
  },
  {
   "cell_type": "markdown",
   "metadata": {},
   "source": [
    "Let's plot the Binance 5m data to get a visual of what happened on 24-March-2022."
   ]
  },
  {
   "cell_type": "code",
   "execution_count": 176,
   "metadata": {},
   "outputs": [
    {
     "data": {
      "text/html": [
       "\n",
       "    <div class=\"bk-root\">\n",
       "        <a href=\"https://bokeh.org\" target=\"_blank\" class=\"bk-logo bk-logo-small bk-logo-notebook\"></a>\n",
       "        <span id=\"1434\">Loading BokehJS ...</span>\n",
       "    </div>"
      ]
     },
     "metadata": {},
     "output_type": "display_data"
    },
    {
     "data": {
      "application/javascript": "\n(function(root) {\n  function now() {\n    return new Date();\n  }\n\n  var force = true;\n\n  if (typeof root._bokeh_onload_callbacks === \"undefined\" || force === true) {\n    root._bokeh_onload_callbacks = [];\n    root._bokeh_is_loading = undefined;\n  }\n\n  var JS_MIME_TYPE = 'application/javascript';\n  var HTML_MIME_TYPE = 'text/html';\n  var EXEC_MIME_TYPE = 'application/vnd.bokehjs_exec.v0+json';\n  var CLASS_NAME = 'output_bokeh rendered_html';\n\n  /**\n   * Render data to the DOM node\n   */\n  function render(props, node) {\n    var script = document.createElement(\"script\");\n    node.appendChild(script);\n  }\n\n  /**\n   * Handle when an output is cleared or removed\n   */\n  function handleClearOutput(event, handle) {\n    var cell = handle.cell;\n\n    var id = cell.output_area._bokeh_element_id;\n    var server_id = cell.output_area._bokeh_server_id;\n    // Clean up Bokeh references\n    if (id != null && id in Bokeh.index) {\n      Bokeh.index[id].model.document.clear();\n      delete Bokeh.index[id];\n    }\n\n    if (server_id !== undefined) {\n      // Clean up Bokeh references\n      var cmd = \"from bokeh.io.state import curstate; print(curstate().uuid_to_server['\" + server_id + \"'].get_sessions()[0].document.roots[0]._id)\";\n      cell.notebook.kernel.execute(cmd, {\n        iopub: {\n          output: function(msg) {\n            var id = msg.content.text.trim();\n            if (id in Bokeh.index) {\n              Bokeh.index[id].model.document.clear();\n              delete Bokeh.index[id];\n            }\n          }\n        }\n      });\n      // Destroy server and session\n      var cmd = \"import bokeh.io.notebook as ion; ion.destroy_server('\" + server_id + \"')\";\n      cell.notebook.kernel.execute(cmd);\n    }\n  }\n\n  /**\n   * Handle when a new output is added\n   */\n  function handleAddOutput(event, handle) {\n    var output_area = handle.output_area;\n    var output = handle.output;\n\n    // limit handleAddOutput to display_data with EXEC_MIME_TYPE content only\n    if ((output.output_type != \"display_data\") || (!Object.prototype.hasOwnProperty.call(output.data, EXEC_MIME_TYPE))) {\n      return\n    }\n\n    var toinsert = output_area.element.find(\".\" + CLASS_NAME.split(' ')[0]);\n\n    if (output.metadata[EXEC_MIME_TYPE][\"id\"] !== undefined) {\n      toinsert[toinsert.length - 1].firstChild.textContent = output.data[JS_MIME_TYPE];\n      // store reference to embed id on output_area\n      output_area._bokeh_element_id = output.metadata[EXEC_MIME_TYPE][\"id\"];\n    }\n    if (output.metadata[EXEC_MIME_TYPE][\"server_id\"] !== undefined) {\n      var bk_div = document.createElement(\"div\");\n      bk_div.innerHTML = output.data[HTML_MIME_TYPE];\n      var script_attrs = bk_div.children[0].attributes;\n      for (var i = 0; i < script_attrs.length; i++) {\n        toinsert[toinsert.length - 1].firstChild.setAttribute(script_attrs[i].name, script_attrs[i].value);\n        toinsert[toinsert.length - 1].firstChild.textContent = bk_div.children[0].textContent\n      }\n      // store reference to server id on output_area\n      output_area._bokeh_server_id = output.metadata[EXEC_MIME_TYPE][\"server_id\"];\n    }\n  }\n\n  function register_renderer(events, OutputArea) {\n\n    function append_mime(data, metadata, element) {\n      // create a DOM node to render to\n      var toinsert = this.create_output_subarea(\n        metadata,\n        CLASS_NAME,\n        EXEC_MIME_TYPE\n      );\n      this.keyboard_manager.register_events(toinsert);\n      // Render to node\n      var props = {data: data, metadata: metadata[EXEC_MIME_TYPE]};\n      render(props, toinsert[toinsert.length - 1]);\n      element.append(toinsert);\n      return toinsert\n    }\n\n    /* Handle when an output is cleared or removed */\n    events.on('clear_output.CodeCell', handleClearOutput);\n    events.on('delete.Cell', handleClearOutput);\n\n    /* Handle when a new output is added */\n    events.on('output_added.OutputArea', handleAddOutput);\n\n    /**\n     * Register the mime type and append_mime function with output_area\n     */\n    OutputArea.prototype.register_mime_type(EXEC_MIME_TYPE, append_mime, {\n      /* Is output safe? */\n      safe: true,\n      /* Index of renderer in `output_area.display_order` */\n      index: 0\n    });\n  }\n\n  // register the mime type if in Jupyter Notebook environment and previously unregistered\n  if (root.Jupyter !== undefined) {\n    var events = require('base/js/events');\n    var OutputArea = require('notebook/js/outputarea').OutputArea;\n\n    if (OutputArea.prototype.mime_types().indexOf(EXEC_MIME_TYPE) == -1) {\n      register_renderer(events, OutputArea);\n    }\n  }\n\n  \n  if (typeof (root._bokeh_timeout) === \"undefined\" || force === true) {\n    root._bokeh_timeout = Date.now() + 5000;\n    root._bokeh_failed_load = false;\n  }\n\n  var NB_LOAD_WARNING = {'data': {'text/html':\n     \"<div style='background-color: #fdd'>\\n\"+\n     \"<p>\\n\"+\n     \"BokehJS does not appear to have successfully loaded. If loading BokehJS from CDN, this \\n\"+\n     \"may be due to a slow or bad network connection. Possible fixes:\\n\"+\n     \"</p>\\n\"+\n     \"<ul>\\n\"+\n     \"<li>re-rerun `output_notebook()` to attempt to load from CDN again, or</li>\\n\"+\n     \"<li>use INLINE resources instead, as so:</li>\\n\"+\n     \"</ul>\\n\"+\n     \"<code>\\n\"+\n     \"from bokeh.resources import INLINE\\n\"+\n     \"output_notebook(resources=INLINE)\\n\"+\n     \"</code>\\n\"+\n     \"</div>\"}};\n\n  function display_loaded() {\n    var el = document.getElementById(\"1434\");\n    if (el != null) {\n      el.textContent = \"BokehJS is loading...\";\n    }\n    if (root.Bokeh !== undefined) {\n      if (el != null) {\n        el.textContent = \"BokehJS \" + root.Bokeh.version + \" successfully loaded.\";\n      }\n    } else if (Date.now() < root._bokeh_timeout) {\n      setTimeout(display_loaded, 100)\n    }\n  }\n\n\n  function run_callbacks() {\n    try {\n      root._bokeh_onload_callbacks.forEach(function(callback) {\n        if (callback != null)\n          callback();\n      });\n    } finally {\n      delete root._bokeh_onload_callbacks\n    }\n    console.debug(\"Bokeh: all callbacks have finished\");\n  }\n\n  function load_libs(css_urls, js_urls, callback) {\n    if (css_urls == null) css_urls = [];\n    if (js_urls == null) js_urls = [];\n\n    root._bokeh_onload_callbacks.push(callback);\n    if (root._bokeh_is_loading > 0) {\n      console.debug(\"Bokeh: BokehJS is being loaded, scheduling callback at\", now());\n      return null;\n    }\n    if (js_urls == null || js_urls.length === 0) {\n      run_callbacks();\n      return null;\n    }\n    console.debug(\"Bokeh: BokehJS not loaded, scheduling load and callback at\", now());\n    root._bokeh_is_loading = css_urls.length + js_urls.length;\n\n    function on_load() {\n      root._bokeh_is_loading--;\n      if (root._bokeh_is_loading === 0) {\n        console.debug(\"Bokeh: all BokehJS libraries/stylesheets loaded\");\n        run_callbacks()\n      }\n    }\n\n    function on_error(url) {\n      console.error(\"failed to load \" + url);\n    }\n\n    for (let i = 0; i < css_urls.length; i++) {\n      const url = css_urls[i];\n      const element = document.createElement(\"link\");\n      element.onload = on_load;\n      element.onerror = on_error.bind(null, url);\n      element.rel = \"stylesheet\";\n      element.type = \"text/css\";\n      element.href = url;\n      console.debug(\"Bokeh: injecting link tag for BokehJS stylesheet: \", url);\n      document.body.appendChild(element);\n    }\n\n    const hashes = {\"https://cdn.bokeh.org/bokeh/release/bokeh-2.3.3.min.js\": \"dM3QQsP+wXdHg42wTqW85BjZQdLNNIXqlPw/BgKoExPmTG7ZLML4EGqLMfqHT6ON\", \"https://cdn.bokeh.org/bokeh/release/bokeh-tables-2.3.3.min.js\": \"8x57I4YuIfu8XyZfFo0XVr2WAT8EK4rh/uDe3wF7YuW2FNUSNEpJbsPaB1nJ2fz2\", \"https://cdn.bokeh.org/bokeh/release/bokeh-widgets-2.3.3.min.js\": \"3QTqdz9LyAm2i0sG5XTePsHec3UHWwVsrOL68SYRoAXsafvfAyqtQ+h440+qIBhS\"};\n\n    for (let i = 0; i < js_urls.length; i++) {\n      const url = js_urls[i];\n      const element = document.createElement('script');\n      element.onload = on_load;\n      element.onerror = on_error.bind(null, url);\n      element.async = false;\n      element.src = url;\n      if (url in hashes) {\n        element.crossOrigin = \"anonymous\";\n        element.integrity = \"sha384-\" + hashes[url];\n      }\n      console.debug(\"Bokeh: injecting script tag for BokehJS library: \", url);\n      document.head.appendChild(element);\n    }\n  };\n\n  function inject_raw_css(css) {\n    const element = document.createElement(\"style\");\n    element.appendChild(document.createTextNode(css));\n    document.body.appendChild(element);\n  }\n\n  \n  var js_urls = [\"https://cdn.bokeh.org/bokeh/release/bokeh-2.3.3.min.js\", \"https://cdn.bokeh.org/bokeh/release/bokeh-widgets-2.3.3.min.js\", \"https://cdn.bokeh.org/bokeh/release/bokeh-tables-2.3.3.min.js\"];\n  var css_urls = [];\n  \n\n  var inline_js = [\n    function(Bokeh) {\n      Bokeh.set_log_level(\"info\");\n    },\n    function(Bokeh) {\n    \n    \n    }\n  ];\n\n  function run_inline_js() {\n    \n    if (root.Bokeh !== undefined || force === true) {\n      \n    for (var i = 0; i < inline_js.length; i++) {\n      inline_js[i].call(root, root.Bokeh);\n    }\n    if (force === true) {\n        display_loaded();\n      }} else if (Date.now() < root._bokeh_timeout) {\n      setTimeout(run_inline_js, 100);\n    } else if (!root._bokeh_failed_load) {\n      console.log(\"Bokeh: BokehJS failed to load within specified timeout.\");\n      root._bokeh_failed_load = true;\n    } else if (force !== true) {\n      var cell = $(document.getElementById(\"1434\")).parents('.cell').data().cell;\n      cell.output_area.append_execute_result(NB_LOAD_WARNING)\n    }\n\n  }\n\n  if (root._bokeh_is_loading === 0) {\n    console.debug(\"Bokeh: BokehJS loaded, going straight to plotting\");\n    run_inline_js();\n  } else {\n    load_libs(css_urls, js_urls, function() {\n      console.debug(\"Bokeh: BokehJS plotting callback run at\", now());\n      run_inline_js();\n    });\n  }\n}(window));",
      "application/vnd.bokehjs_load.v0+json": ""
     },
     "metadata": {},
     "output_type": "display_data"
    },
    {
     "data": {
      "text/html": [
       "\n",
       "\n",
       "\n",
       "\n",
       "\n",
       "\n",
       "  <div class=\"bk-root\" id=\"03a95b9f-6f3b-4e7d-aae6-af7035774b9f\" data-root-id=\"1435\"></div>\n"
      ]
     },
     "metadata": {},
     "output_type": "display_data"
    },
    {
     "data": {
      "application/javascript": "(function(root) {\n  function embed_document(root) {\n    \n  var docs_json = {\"c9ff99ed-96f8-4868-83d8-cbd6017f3439\":{\"defs\":[],\"roots\":{\"references\":[{\"attributes\":{\"below\":[{\"id\":\"1446\"}],\"center\":[{\"id\":\"1449\"},{\"id\":\"1453\"}],\"left\":[{\"id\":\"1450\"}],\"renderers\":[{\"id\":\"1469\"},{\"id\":\"1474\"},{\"id\":\"1479\"}],\"title\":{\"id\":\"1436\"},\"toolbar\":{\"id\":\"1460\"},\"width\":1000,\"x_range\":{\"id\":\"1438\"},\"x_scale\":{\"id\":\"1442\"},\"y_range\":{\"id\":\"1440\"},\"y_scale\":{\"id\":\"1444\"}},\"id\":\"1435\",\"subtype\":\"Figure\",\"type\":\"Plot\"},{\"attributes\":{},\"id\":\"1457\",\"type\":\"ResetTool\"},{\"attributes\":{},\"id\":\"1539\",\"type\":\"AllLabels\"},{\"attributes\":{\"overlay\":{\"id\":\"1459\"}},\"id\":\"1456\",\"type\":\"BoxZoomTool\"},{\"attributes\":{},\"id\":\"1537\",\"type\":\"DatetimeTickFormatter\"},{\"attributes\":{\"x0\":{\"field\":\"x0\"},\"x1\":{\"field\":\"x1\"},\"y0\":{\"field\":\"y0\"},\"y1\":{\"field\":\"y1\"}},\"id\":\"1467\",\"type\":\"Segment\"},{\"attributes\":{},\"id\":\"1454\",\"type\":\"PanTool\"},{\"attributes\":{},\"id\":\"1444\",\"type\":\"LinearScale\"},{\"attributes\":{},\"id\":\"1536\",\"type\":\"AllLabels\"},{\"attributes\":{\"data\":{\"x0\":{\"__ndarray__\":\"AABod7L7d0IAAKbAsvt3QgAA5Amz+3dCAAAiU7P7d0IAAGCcs/t3QgAAnuWz+3dCAADcLrT7d0IAABp4tPt3QgAAWMG0+3dCAACWCrX7d0IAANRTtft3QgAAEp21+3dCAABQ5rX7d0IAAI4vtvt3QgAAzHi2+3dCAAAKwrb7d0IAAEgLt/t3QgAAhlS3+3dCAADEnbf7d0IAAALnt/t3QgAAQDC4+3dCAAB+ebj7d0IAALzCuPt3QgAA+gu5+3dCAAA4Vbn7d0IAAHaeuft3QgAAtOe5+3dCAADyMLr7d0IAADB6uvt3QgAAbsO6+3dCAACsDLv7d0IAAOpVu/t3QgAAKJ+7+3dCAABm6Lv7d0IAAKQxvPt3QgAA4nq8+3dCAAAgxLz7d0IAAF4Nvft3QgAAnFa9+3dCAADan737d0IAABjpvft3QgAAVjK++3dCAACUe777d0IAANLEvvt3QgAAEA6/+3dCAABOV7/7d0IAAIygv/t3QgAAyum/+3dCAAAIM8D7d0IAAEZ8wPt3QgAAhMXA+3dCAADCDsH7d0IAAABYwft3QgAAPqHB+3dCAAB86sH7d0IAALozwvt3QgAA+HzC+3dCAAA2xsL7d0IAAHQPw/t3QgAAsljD+3dCAADwocP7d0IAAC7rw/t3QgAAbDTE+3dCAACqfcT7d0IAAOjGxPt3QgAAJhDF+3dCAABkWcX7d0IAAKKixft3QgAA4OvF+3dCAAAeNcb7d0IAAFx+xvt3QgAAmsfG+3dCAADYEMf7d0IAABZax/t3QgAAVKPH+3dCAACS7Mf7d0IAANA1yPt3QgAADn/I+3dCAABMyMj7d0IAAIoRyft3QgAAyFrJ+3dCAAAGpMn7d0IAAETtyft3QgAAgjbK+3dCAADAf8r7d0IAAP7Iyvt3QgAAPBLL+3dCAAB6W8v7d0IAALiky/t3QgAA9u3L+3dCAAA0N8z7d0IAAHKAzPt3QgAAsMnM+3dCAADuEs37d0IAACxczft3QgAAaqXN+3dCAACo7s37d0IAAOY3zvt3QgAAJIHO+3dCAABiys77d0IAAKATz/t3QgAA3lzP+3dCAAAcps/7d0IAAFrvz/t3QgAAmDjQ+3dCAADWgdD7d0IAABTL0Pt3QgAAUhTR+3dC\",\"dtype\":\"float64\",\"order\":\"little\",\"shape\":[108]},\"x1\":{\"__ndarray__\":\"AABod7L7d0IAAKbAsvt3QgAA5Amz+3dCAAAiU7P7d0IAAGCcs/t3QgAAnuWz+3dCAADcLrT7d0IAABp4tPt3QgAAWMG0+3dCAACWCrX7d0IAANRTtft3QgAAEp21+3dCAABQ5rX7d0IAAI4vtvt3QgAAzHi2+3dCAAAKwrb7d0IAAEgLt/t3QgAAhlS3+3dCAADEnbf7d0IAAALnt/t3QgAAQDC4+3dCAAB+ebj7d0IAALzCuPt3QgAA+gu5+3dCAAA4Vbn7d0IAAHaeuft3QgAAtOe5+3dCAADyMLr7d0IAADB6uvt3QgAAbsO6+3dCAACsDLv7d0IAAOpVu/t3QgAAKJ+7+3dCAABm6Lv7d0IAAKQxvPt3QgAA4nq8+3dCAAAgxLz7d0IAAF4Nvft3QgAAnFa9+3dCAADan737d0IAABjpvft3QgAAVjK++3dCAACUe777d0IAANLEvvt3QgAAEA6/+3dCAABOV7/7d0IAAIygv/t3QgAAyum/+3dCAAAIM8D7d0IAAEZ8wPt3QgAAhMXA+3dCAADCDsH7d0IAAABYwft3QgAAPqHB+3dCAAB86sH7d0IAALozwvt3QgAA+HzC+3dCAAA2xsL7d0IAAHQPw/t3QgAAsljD+3dCAADwocP7d0IAAC7rw/t3QgAAbDTE+3dCAACqfcT7d0IAAOjGxPt3QgAAJhDF+3dCAABkWcX7d0IAAKKixft3QgAA4OvF+3dCAAAeNcb7d0IAAFx+xvt3QgAAmsfG+3dCAADYEMf7d0IAABZax/t3QgAAVKPH+3dCAACS7Mf7d0IAANA1yPt3QgAADn/I+3dCAABMyMj7d0IAAIoRyft3QgAAyFrJ+3dCAAAGpMn7d0IAAETtyft3QgAAgjbK+3dCAADAf8r7d0IAAP7Iyvt3QgAAPBLL+3dCAAB6W8v7d0IAALiky/t3QgAA9u3L+3dCAAA0N8z7d0IAAHKAzPt3QgAAsMnM+3dCAADuEs37d0IAACxczft3QgAAaqXN+3dCAACo7s37d0IAAOY3zvt3QgAAJIHO+3dCAABiys77d0IAAKATz/t3QgAA3lzP+3dCAAAcps/7d0IAAFrvz/t3QgAAmDjQ+3dCAADWgdD7d0IAABTL0Pt3QgAAUhTR+3dC\",\"dtype\":\"float64\",\"order\":\"little\",\"shape\":[108]},\"y0\":{\"__ndarray__\":\"H4XrUQAN5UA9CtejUAblQB+F61HAEeVAw/UoXO8I5UB7FK5HaQLlQOxRuB59B+VAAAAAAKAM5UD2KFyP8hPlQAAAAACAD+VAH4XrUUAM5UBI4XoULgrlQAAAAAD4COVAAAAAAGgM5UAAAAAAwBHlQLgehesJC+VApHA9CrcK5UDhehSuZxLlQHE9Ctc7FeVAAAAAAAgO5UAAAAAAgBrlQNejcD16D+VAKVyPwpUA5UCamZmZIQTlQOxRuB6dCuVAAAAAAOAC5UAAAAAAwAHlQMP1KFwvAuVAFK5H4Rr55EAAAAAAAP/kQAAAAAAABOVAMzMzM1MC5UAUrkfhsgTlQI/C9SikCOVAH4XrUbgL5UAAAAAAAAnlQAAAAACgBOVAuB6F69ED5UC4HoXrwQPlQOF6FK4fBeVAAAAAAIAG5UCPwvUojAnlQHsUrkeZCOVAcT0K1wMI5UCuR+F61ALlQMP1KFz//+RAuB6F60H85EA9CtejyPrkQMP1KFxH/ORAuB6F68n/5EAUrkfhEgjlQB+F61HgAuVAMzMzM6P95ECPwvUoBALlQK5H4Xo8+uRAAAAAAED75EAAAAAAYPjkQAAAAADA7uRApHA9Cvfr5ED2KFyP8u/kQOF6FK5n6uRA4XoUrr/u5EAAAAAAcPXkQFyPwvWY9eRAH4XrUYDw5EDNzMzMPO7kQNejcD2a6ORAmpmZmVn+5EDsUbgeJe7kQFyPwvWo/+RA4XoUrj/95EAAAAAA0PnkQNejcD0CB+VAAAAAAIAL5UAzMzMzYxHlQK5H4XqkCeVAhetRuG4G5UDD9Shcp//kQK5H4Xq0AeVAPQrXozgD5UDNzMzMXADlQOF6FK7vAeVAAAAAAIA95UAAAAAAYDTlQB+F61FgSeVAAAAAAABZ5UAUrkfh6lflQLgeheuBT+VAAAAAAABj5UDhehSu/2blQAAAAACAZOVAAAAAAEBo5UAAAAAAQHjlQAAAAAAAfOVAAAAAAMB75UDsUbge7XDlQClcj8KdgOVACtejcLWF5UDXo3A94nflQOF6FK4fd+VA4XoUrj+C5UBcj8L1WJPlQI/C9SgchOVAmpmZmTl55UBSuB6FO3XlQAAAAADgeOVAw/UoXE935UAAAAAAIHflQFK4HoUzg+VA\",\"dtype\":\"float64\",\"order\":\"little\",\"shape\":[108]},\"y1\":{\"__ndarray__\":\"AAAAACD/5EBI4XoUHv3kQFK4HoVDAOVAH4XrUYD85EC4HoXr8fvkQBSuR+FyAOVAj8L1KIwD5UCkcD0KRwflQAAAAAAICuVA4XoUrp8G5UBcj8L1uATlQAAAAACgBOVAj8L1KCwE5UBmZmZmJgjlQAAAAABgBOVArkfhemQF5UCPwvUovAflQAAAAACgDOVACtejcJUG5UAK16NwHevkQMP1KFw39eRAAAAAAMD05EAK16Nwre/kQMP1KFwXAeVAUrgehav25EB7FK5HQfbkQKRwPQoH9uRAAAAAACD15EBI4XoUtvjkQHE9Ctfz/eRArkfheqT65EBcj8L1OP/kQGZmZmaOAOVAAAAAAEAF5UAUrkfhAgHlQIXrUbhe/+RArkfhevz85EDD9Shcp/bkQGZmZmbe+ORA16NwPXIB5UCkcD0KdwPlQAAAAAA4A+VAMzMzM+P/5EAK16NwVfrkQPYoXI9q7uRAcT0K10P05EAUrkfhgvXkQIXrUbhu9eRASOF6FP745EAAAAAAgPnkQK5H4Xoc8eRAhetRuJby5EBmZmZm5vXkQClcj8I99uRAAAAAAAD15EB7FK5HwejkQEjhehQO5ORAPQrXo6De5EAAAAAAwObkQAAAAABg4+RACtejcKXl5EAAAAAAwOzkQGZmZmae6uRAKVyPwrXn5EAAAAAAIObkQDMzMzNb4uRAhetRuA7I5EAfhetRCOLkQIXrUbim6+RA9ihcj3Lv5ECkcD0Kh+jkQAAAAAAA+ORAMzMzMxv95EDhehSu5wLlQB+F61HgAuVAAAAAACD25EBI4XoUvvjkQM3MzMys9+RA9ihcjyLx5EB7FK5H6fbkQBSuR+Eq+eRAexSuR/EA5UCamZmZ8R7lQNejcD1aK+VAAAAAAHg65UCPwvUolDnlQPYoXI9KP+VAH4XrUUBL5UAAAAAAoE7lQPYoXI9CWOVAcT0K10tT5UBxPQrXg17lQK5H4XoMb+VAAAAAAABe5UAAAAAAwFvlQOF6FK5vauVA7FG4Ht1t5UBxPQrXy2rlQKRwPQqHaOVAZmZmZg5t5UBSuB6F+33lQArXo3CdceVAAAAAAIBo5UB7FK5HQWjlQAAAAAAQbOVAAAAAAIBv5UAAAAAAgG/lQArXo3BlcuVA\",\"dtype\":\"float64\",\"order\":\"little\",\"shape\":[108]}},\"selected\":{\"id\":\"1552\"},\"selection_policy\":{\"id\":\"1553\"}},\"id\":\"1466\",\"type\":\"ColumnDataSource\"},{\"attributes\":{},\"id\":\"1455\",\"type\":\"WheelZoomTool\"},{\"attributes\":{\"axis\":{\"id\":\"1446\"},\"grid_line_alpha\":0.3,\"ticker\":null},\"id\":\"1449\",\"type\":\"Grid\"},{\"attributes\":{\"source\":{\"id\":\"1466\"}},\"id\":\"1470\",\"type\":\"CDSView\"},{\"attributes\":{},\"id\":\"1554\",\"type\":\"Selection\"},{\"attributes\":{\"mantissas\":[1,2,5],\"max_interval\":500.0,\"num_minor_ticks\":0},\"id\":\"1540\",\"type\":\"AdaptiveTicker\"},{\"attributes\":{\"line_alpha\":{\"value\":0.1},\"x0\":{\"field\":\"x0\"},\"x1\":{\"field\":\"x1\"},\"y0\":{\"field\":\"y0\"},\"y1\":{\"field\":\"y1\"}},\"id\":\"1468\",\"type\":\"Segment\"},{\"attributes\":{\"base\":60,\"mantissas\":[1,2,5,10,15,20,30],\"max_interval\":1800000.0,\"min_interval\":1000.0,\"num_minor_ticks\":0},\"id\":\"1541\",\"type\":\"AdaptiveTicker\"},{\"attributes\":{\"data_source\":{\"id\":\"1466\"},\"glyph\":{\"id\":\"1467\"},\"hover_glyph\":null,\"muted_glyph\":null,\"nonselection_glyph\":{\"id\":\"1468\"},\"view\":{\"id\":\"1470\"}},\"id\":\"1469\",\"type\":\"GlyphRenderer\"},{\"attributes\":{\"base\":24,\"mantissas\":[1,2,4,6,8,12],\"max_interval\":43200000.0,\"min_interval\":3600000.0,\"num_minor_ticks\":0},\"id\":\"1542\",\"type\":\"AdaptiveTicker\"},{\"attributes\":{},\"id\":\"1555\",\"type\":\"UnionRenderers\"},{\"attributes\":{},\"id\":\"1451\",\"type\":\"BasicTicker\"},{\"attributes\":{},\"id\":\"1551\",\"type\":\"YearsTicker\"},{\"attributes\":{\"num_minor_ticks\":5,\"tickers\":[{\"id\":\"1540\"},{\"id\":\"1541\"},{\"id\":\"1542\"},{\"id\":\"1543\"},{\"id\":\"1544\"},{\"id\":\"1545\"},{\"id\":\"1546\"},{\"id\":\"1547\"},{\"id\":\"1548\"},{\"id\":\"1549\"},{\"id\":\"1550\"},{\"id\":\"1551\"}]},\"id\":\"1447\",\"type\":\"DatetimeTicker\"},{\"attributes\":{\"months\":[0,1,2,3,4,5,6,7,8,9,10,11]},\"id\":\"1547\",\"type\":\"MonthsTicker\"},{\"attributes\":{\"days\":[1,15]},\"id\":\"1546\",\"type\":\"DaysTicker\"},{\"attributes\":{\"text\":\"Binance BTCUSDT 5m\"},\"id\":\"1436\",\"type\":\"Title\"},{\"attributes\":{\"days\":[1,2,3,4,5,6,7,8,9,10,11,12,13,14,15,16,17,18,19,20,21,22,23,24,25,26,27,28,29,30,31]},\"id\":\"1543\",\"type\":\"DaysTicker\"},{\"attributes\":{\"days\":[1,4,7,10,13,16,19,22,25,28]},\"id\":\"1544\",\"type\":\"DaysTicker\"},{\"attributes\":{\"bottom\":{\"field\":\"bottom\"},\"fill_color\":{\"value\":\"#c40404\"},\"top\":{\"field\":\"top\"},\"width\":{\"value\":300000},\"x\":{\"field\":\"x\"}},\"id\":\"1477\",\"type\":\"VBar\"},{\"attributes\":{\"days\":[1,8,15,22]},\"id\":\"1545\",\"type\":\"DaysTicker\"},{\"attributes\":{\"data\":{\"bottom\":{\"__ndarray__\":\"hetRuI4A5UDhehSu5/zkQAAAAAAYDOVA4XoUrp8G5UB7FK5HMQXlQFyPwvUICeVAH4XrUcgI5UDsUbgetQzlQJqZmZnBC+VAPQrXoygL5UApXI/ClQDlQHE9CteL9eRAH4XrUaAB5UBSuB6F2/bkQKRwPQoH9uRAuB6F6xEE5UCF61G4Xv/kQJqZmZnJ/eRAUrgehRv95EAAAAAAQAPlQI/C9SjUAuVApHA9Cv//5EBcj8L1gPbkQM3MzMwU9+RAZmZmZh7z5EB7FK5HufbkQOF6FK4/7ORAUrgehevr5EDhehSu/+jkQJqZmZkR5+RAcT0K17vq5EC4HoXrgenkQK5H4XrU5+RAAAAAAODi5ED2KFyPcu/kQDMzMzMrCOVAKVyPwo0F5UBcj8L1WPzkQBSuR+Hi+eRAmpmZmcH95EBxPQrXO0LlQBSuR+GqYOVAH4XrUUBg5UDD9Shc327lQFK4HoWrf+VA4XoUrn905UDNzMzMjGnlQHsUrkfhb+VA\",\"dtype\":\"float64\",\"order\":\"little\",\"shape\":[48]},\"top\":{\"__ndarray__\":\"AAAAALgI5UAAAAAA0AblQHsUrkcBDuVAAAAAABgM5UCkcD0KzwflQBSuR+HKC+VApHA9CrcK5UC4HoXr4RHlQArXo3C1DOVAmpmZmcEL5UA9CtejKAvlQClcj8KVAOVAPQrXo8AD5UAfhetRoAHlQClcj8L1/ORAAAAAAAAJ5UDXo3A9EgTlQIXrUbhe/+RAuB6F68n95EAfhetRwAflQAAAAABAA+VArkfhetQC5UCkcD0K///kQK5H4Xr89+RAAAAAAOAC5UB7FK5HYfjkQAAAAABg+ORA4XoUrj/s5EBxPQrX6+vkQOF6FK7/6ORAXI/C9Sj15EBxPQrXu+rkQNejcD2C6eRArkfhetTn5EBcj8L1GPfkQPYoXI8CCeVAFK5H4SoI5UApXI/CjQXlQOF6FK6n/ORAUrgehcP/5EDhehSu/0vlQB+F61EYY+VAXI/C9dh65UAAAAAAAHzlQMP1KFzngOVAUrgehat/5UDD9Shcf3TlQD0K16MAd+VA\",\"dtype\":\"float64\",\"order\":\"little\",\"shape\":[48]},\"x\":{\"__ndarray__\":\"AABod7L7d0IAACJTs/t3QgAAWMG0+3dCAACWCrX7d0IAABKdtft3QgAAji+2+3dCAAAKwrb7d0IAAIZUt/t3QgAAxJ23+3dCAAAC57f7d0IAAEAwuPt3QgAAfnm4+3dCAAD6C7n7d0IAADhVuft3QgAAtOe5+3dCAACkMbz7d0IAAOJ6vPt3QgAAIMS8+3dCAABeDb37d0IAAFYyvvt3QgAAlHu++3dCAADSxL77d0IAABAOv/t3QgAAjKC/+3dCAACExcD7d0IAAABYwft3QgAAujPC+3dCAAD4fML7d0IAADbGwvt3QgAAdA/D+3dCAABsNMT7d0IAAKp9xPt3QgAA6MbE+3dCAAAmEMX7d0IAAB41xvt3QgAAFlrH+3dCAABUo8f7d0IAAJLsx/t3QgAADn/I+3dCAACKEcn7d0IAAP7Iyvt3QgAA9u3L+3dCAADuEs37d0IAAKjuzft3QgAAoBPP+3dCAADeXM/7d0IAABymz/t3QgAA1oHQ+3dC\",\"dtype\":\"float64\",\"order\":\"little\",\"shape\":[48]}},\"selected\":{\"id\":\"1556\"},\"selection_policy\":{\"id\":\"1557\"}},\"id\":\"1476\",\"type\":\"ColumnDataSource\"},{\"attributes\":{\"months\":[0,6]},\"id\":\"1550\",\"type\":\"MonthsTicker\"},{\"attributes\":{\"months\":[0,2,4,6,8,10]},\"id\":\"1548\",\"type\":\"MonthsTicker\"},{\"attributes\":{\"axis\":{\"id\":\"1450\"},\"dimension\":1,\"grid_line_alpha\":0.3,\"ticker\":null},\"id\":\"1453\",\"type\":\"Grid\"},{\"attributes\":{\"bottom\":{\"field\":\"bottom\"},\"fill_alpha\":{\"value\":0.1},\"fill_color\":{\"value\":\"#c40404\"},\"line_alpha\":{\"value\":0.1},\"top\":{\"field\":\"top\"},\"width\":{\"value\":300000},\"x\":{\"field\":\"x\"}},\"id\":\"1478\",\"type\":\"VBar\"},{\"attributes\":{\"data_source\":{\"id\":\"1476\"},\"glyph\":{\"id\":\"1477\"},\"hover_glyph\":null,\"muted_glyph\":null,\"nonselection_glyph\":{\"id\":\"1478\"},\"view\":{\"id\":\"1480\"}},\"id\":\"1479\",\"type\":\"GlyphRenderer\"},{\"attributes\":{\"months\":[0,4,8]},\"id\":\"1549\",\"type\":\"MonthsTicker\"},{\"attributes\":{\"bottom_units\":\"screen\",\"fill_alpha\":0.5,\"fill_color\":\"lightgrey\",\"left_units\":\"screen\",\"level\":\"overlay\",\"line_alpha\":1.0,\"line_color\":\"black\",\"line_dash\":[4,4],\"line_width\":2,\"right_units\":\"screen\",\"syncable\":false,\"top_units\":\"screen\"},\"id\":\"1459\",\"type\":\"BoxAnnotation\"},{\"attributes\":{},\"id\":\"1556\",\"type\":\"Selection\"},{\"attributes\":{\"formatter\":{\"id\":\"1534\"},\"major_label_policy\":{\"id\":\"1536\"},\"ticker\":{\"id\":\"1451\"}},\"id\":\"1450\",\"type\":\"LinearAxis\"},{\"attributes\":{},\"id\":\"1440\",\"type\":\"DataRange1d\"},{\"attributes\":{\"source\":{\"id\":\"1476\"}},\"id\":\"1480\",\"type\":\"CDSView\"},{\"attributes\":{},\"id\":\"1458\",\"type\":\"SaveTool\"},{\"attributes\":{},\"id\":\"1557\",\"type\":\"UnionRenderers\"},{\"attributes\":{},\"id\":\"1552\",\"type\":\"Selection\"},{\"attributes\":{\"bottom\":{\"field\":\"bottom\"},\"fill_color\":{\"value\":\"#207318\"},\"top\":{\"field\":\"top\"},\"width\":{\"value\":300000},\"x\":{\"field\":\"x\"}},\"id\":\"1472\",\"type\":\"VBar\"},{\"attributes\":{},\"id\":\"1442\",\"type\":\"LinearScale\"},{\"attributes\":{\"data\":{\"bottom\":{\"__ndarray__\":\"j8L1KIQE5UAAAAAA0AblQBSuR+HSAOVAH4XrUcAD5UBxPQrXEwjlQHsUrkcBDuVAw/UoXM8H5UAzMzMzywvlQIXrUbi2CuVAmpmZmeER5UAfhetRwAPlQEjhehT2/ORAZmZmZrb45EAfhetRGP7kQFyPwvXw/uRAexSuRzn/5EBmZmZmjgDlQI/C9Si0B+VAAAAAAAAJ5UBI4XoUhgHlQLgehevJBOVAH4XrUcAH5UDNzMzM/PfkQArXo3AN++RApHA9Csf85EAAAAAA4ALlQFyPwvVg+ORAMzMzM4P35EDhehSuX/jkQBSuR+Fa5+RAH4XrUcDs5EA9CtejKPXkQJqZmZkR5+RA4XoUrufr5EB7FK5HGffkQB+F61EA+ORAUrgehRv95EDXo3A9AgnlQOF6FK6n/ORAUrgehcP/5EAUrkfhOgHlQM3MzMz8K+VAj8L1KLwz5UBSuB6Fw0flQAAAAAAATOVAexSuR4FP5UCF61G47ljlQB+F61EYY+VAUrgehVtl5UAfhetRIHHlQHsUrkfZeuVAuB6F63ls5UAfhetRAHzlQB+F61GAb+VAuB6F61Fz5UDD9Shc54DlQClcj8J9buVAPQrXowB35UCkcD0KP3PlQEjhehRGfOVA\",\"dtype\":\"float64\",\"order\":\"little\",\"shape\":[60]},\"top\":{\"__ndarray__\":\"hetRuI4A5UCuR+F6hATlQAAAAADo/ORAFK5H4dIA5UAfhetRwAPlQHE9CtcTCOVAAAAAAKAG5UB7FK5HMQXlQFyPwvUICeVAH4XrUcgI5UBSuB6Fi/XkQDMzMzPb9uRApHA9Cgf25EBI4XoUtvjkQD0K16MY/uRAXI/C9fD+5EBcj8L1OP/kQIXrUbiOAOVAj8L1KLQH5UAzMzMzG/3kQEjhehSGAeVA16NwPcoE5UA9CtejgPbkQK5H4XoU9+RACtejcA375EDD9Shcx/zkQGZmZmYe8+RAmpmZmbn25EAUrkfhgvfkQLgehesR5+RAFK5H4Vrn5EAfhetRwOzkQAAAAADg4uRAexSuRxHn5EDhehSu5+vkQPYoXI9y7+RAH4XrUQD45EAzMzMzG/3kQHsUrkdZ/ORAMzMzM+P55EC4HoXrwf3kQPYoXI86AeVArkfhevwr5UBxPQrXuzPlQFK4HoXDR+VAUrgehTtC5UCamZmZgU/lQIXrUbjuWOVAFK5H4apg5UBxPQrXW2XlQB+F61EgceVAH4XrUUBg5UC4HoXreWzlQOF6FK7fbuVAAAAAAIBv5UC4HoXrUXPlQM3MzMyMaeVAKVyPwn1u5UB7FK5H4W/lQIXrUbg+c+VA\",\"dtype\":\"float64\",\"order\":\"little\",\"shape\":[60]},\"x\":{\"__ndarray__\":\"AACmwLL7d0IAAOQJs/t3QgAAYJyz+3dCAACe5bP7d0IAANwutPt3QgAAGni0+3dCAADUU7X7d0IAAFDmtft3QgAAzHi2+3dCAABIC7f7d0IAALzCuPt3QgAAdp65+3dCAADyMLr7d0IAADB6uvt3QgAAbsO6+3dCAACsDLv7d0IAAOpVu/t3QgAAKJ+7+3dCAABm6Lv7d0IAAJxWvft3QgAA2p+9+3dCAAAY6b37d0IAAE5Xv/t3QgAAyum/+3dCAAAIM8D7d0IAAEZ8wPt3QgAAwg7B+3dCAAA+ocH7d0IAAHzqwft3QgAAsljD+3dCAADwocP7d0IAAC7rw/t3QgAAZFnF+3dCAACiosX7d0IAAODrxft3QgAAXH7G+3dCAACax8b7d0IAANgQx/t3QgAA0DXI+3dCAABMyMj7d0IAAMhayft3QgAABqTJ+3dCAABE7cn7d0IAAII2yvt3QgAAwH/K+3dCAAA8Esv7d0IAAHpby/t3QgAAuKTL+3dCAAA0N8z7d0IAAHKAzPt3QgAAsMnM+3dCAAAsXM37d0IAAGqlzft3QgAA5jfO+3dCAAAkgc77d0IAAGLKzvt3QgAAWu/P+3dCAACYOND7d0IAABTL0Pt3QgAAUhTR+3dC\",\"dtype\":\"float64\",\"order\":\"little\",\"shape\":[60]}},\"selected\":{\"id\":\"1554\"},\"selection_policy\":{\"id\":\"1555\"}},\"id\":\"1471\",\"type\":\"ColumnDataSource\"},{\"attributes\":{},\"id\":\"1534\",\"type\":\"BasicTickFormatter\"},{\"attributes\":{},\"id\":\"1553\",\"type\":\"UnionRenderers\"},{\"attributes\":{\"bottom\":{\"field\":\"bottom\"},\"fill_alpha\":{\"value\":0.1},\"fill_color\":{\"value\":\"#207318\"},\"line_alpha\":{\"value\":0.1},\"top\":{\"field\":\"top\"},\"width\":{\"value\":300000},\"x\":{\"field\":\"x\"}},\"id\":\"1473\",\"type\":\"VBar\"},{\"attributes\":{\"active_multi\":null,\"tools\":[{\"id\":\"1454\"},{\"id\":\"1455\"},{\"id\":\"1456\"},{\"id\":\"1457\"},{\"id\":\"1458\"}]},\"id\":\"1460\",\"type\":\"Toolbar\"},{\"attributes\":{\"data_source\":{\"id\":\"1471\"},\"glyph\":{\"id\":\"1472\"},\"hover_glyph\":null,\"muted_glyph\":null,\"nonselection_glyph\":{\"id\":\"1473\"},\"view\":{\"id\":\"1475\"}},\"id\":\"1474\",\"type\":\"GlyphRenderer\"},{\"attributes\":{\"formatter\":{\"id\":\"1537\"},\"major_label_orientation\":0.7853981633974483,\"major_label_policy\":{\"id\":\"1539\"},\"ticker\":{\"id\":\"1447\"}},\"id\":\"1446\",\"type\":\"DatetimeAxis\"},{\"attributes\":{},\"id\":\"1438\",\"type\":\"DataRange1d\"},{\"attributes\":{\"source\":{\"id\":\"1471\"}},\"id\":\"1475\",\"type\":\"CDSView\"}],\"root_ids\":[\"1435\"]},\"title\":\"Bokeh Application\",\"version\":\"2.3.3\"}};\n  var render_items = [{\"docid\":\"c9ff99ed-96f8-4868-83d8-cbd6017f3439\",\"root_ids\":[\"1435\"],\"roots\":{\"1435\":\"03a95b9f-6f3b-4e7d-aae6-af7035774b9f\"}}];\n  root.Bokeh.embed.embed_items_notebook(docs_json, render_items);\n\n  }\n  if (root.Bokeh !== undefined) {\n    embed_document(root);\n  } else {\n    var attempts = 0;\n    var timer = setInterval(function(root) {\n      if (root.Bokeh !== undefined) {\n        clearInterval(timer);\n        embed_document(root);\n      } else {\n        attempts++;\n        if (attempts > 100) {\n          clearInterval(timer);\n          console.log(\"Bokeh: ERROR: Unable to run BokehJS code because BokehJS library is missing\");\n        }\n      }\n    }, 10, root)\n  }\n})(window);",
      "application/vnd.bokehjs_exec.v0+json": ""
     },
     "metadata": {
      "application/vnd.bokehjs_exec.v0+json": {
       "id": "1435"
      }
     },
     "output_type": "display_data"
    }
   ],
   "source": [
    "from math import pi\n",
    "from bokeh.plotting import figure, show, output_notebook\n",
    "output_notebook()\n",
    "\n",
    "inc = data.Close > data.Open\n",
    "dec = data.Open > data.Close\n",
    "w = 5*60*1000 # half day in ms\n",
    "data['date'] = pd.to_datetime(data.index, unit='ms')\n",
    "TOOLS = \"pan,wheel_zoom,box_zoom,reset,save\"\n",
    "\n",
    "p = figure(x_axis_type=\"datetime\", tools=TOOLS, width=1000, title = \"Binance BTCUSDT 5m\")\n",
    "p.xaxis.major_label_orientation = pi/4\n",
    "p.grid.grid_line_alpha=0.3\n",
    "\n",
    "p.segment(data.date, data.High, data.date, data.Low, color=\"black\")\n",
    "p.vbar(data.date[inc], w, data.Open[inc], data.Close[inc], fill_color=\"#207318\", line_color=\"black\")\n",
    "p.vbar(data.date[dec], w, data.Open[dec], data.Close[dec], fill_color=\"#c40404\", line_color=\"black\")\n",
    "\n",
    "show(p)\n"
   ]
  },
  {
   "cell_type": "markdown",
   "metadata": {},
   "source": [
    "Let's double check our old SIX data"
   ]
  },
  {
   "cell_type": "code",
   "execution_count": 177,
   "metadata": {},
   "outputs": [
    {
     "data": {
      "text/html": [
       "<div>\n",
       "<style scoped>\n",
       "    .dataframe tbody tr th:only-of-type {\n",
       "        vertical-align: middle;\n",
       "    }\n",
       "\n",
       "    .dataframe tbody tr th {\n",
       "        vertical-align: top;\n",
       "    }\n",
       "\n",
       "    .dataframe thead th {\n",
       "        text-align: right;\n",
       "    }\n",
       "</style>\n",
       "<table border=\"1\" class=\"dataframe\">\n",
       "  <thead>\n",
       "    <tr style=\"text-align: right;\">\n",
       "      <th></th>\n",
       "      <th>Time</th>\n",
       "      <th>Price</th>\n",
       "      <th>Volume</th>\n",
       "      <th>Delta</th>\n",
       "      <th>Pressure</th>\n",
       "    </tr>\n",
       "  </thead>\n",
       "  <tbody>\n",
       "    <tr>\n",
       "      <th>33</th>\n",
       "      <td>09:00:56.00</td>\n",
       "      <td>15.194</td>\n",
       "      <td>200</td>\n",
       "      <td>NaN</td>\n",
       "      <td>SELL</td>\n",
       "    </tr>\n",
       "    <tr>\n",
       "      <th>32</th>\n",
       "      <td>09:11:47.95</td>\n",
       "      <td>15.172</td>\n",
       "      <td>500</td>\n",
       "      <td>-0.001448</td>\n",
       "      <td>BUY</td>\n",
       "    </tr>\n",
       "    <tr>\n",
       "      <th>31</th>\n",
       "      <td>09:11:47.95</td>\n",
       "      <td>15.184</td>\n",
       "      <td>4009</td>\n",
       "      <td>0.000791</td>\n",
       "      <td>BUY</td>\n",
       "    </tr>\n",
       "    <tr>\n",
       "      <th>30</th>\n",
       "      <td>09:11:47.97</td>\n",
       "      <td>15.190</td>\n",
       "      <td>5103</td>\n",
       "      <td>0.000395</td>\n",
       "      <td>0</td>\n",
       "    </tr>\n",
       "    <tr>\n",
       "      <th>29</th>\n",
       "      <td>09:11:47.97</td>\n",
       "      <td>15.190</td>\n",
       "      <td>388</td>\n",
       "      <td>0.000000</td>\n",
       "      <td>SELL</td>\n",
       "    </tr>\n",
       "  </tbody>\n",
       "</table>\n",
       "</div>"
      ],
      "text/plain": [
       "           Time   Price  Volume     Delta Pressure\n",
       "33  09:00:56.00  15.194     200       NaN     SELL\n",
       "32  09:11:47.95  15.172     500 -0.001448      BUY\n",
       "31  09:11:47.95  15.184    4009  0.000791      BUY\n",
       "30  09:11:47.97  15.190    5103  0.000395        0\n",
       "29  09:11:47.97  15.190     388  0.000000     SELL"
      ]
     },
     "execution_count": 177,
     "metadata": {},
     "output_type": "execute_result"
    }
   ],
   "source": [
    "df.head()"
   ]
  },
  {
   "cell_type": "code",
   "execution_count": 178,
   "metadata": {},
   "outputs": [],
   "source": [
    "# Remove miliseconds from Time column\n",
    "df['date'] = df['Time'].str.split('.').str[0]\n",
    "\n",
    "# Add 2022-03-24 to date column\n",
    "df['date'] = '2022-03-24' + ' ' + df['date']\n",
    "df['date'] = pd.to_datetime(df['date'])"
   ]
  },
  {
   "cell_type": "code",
   "execution_count": 179,
   "metadata": {},
   "outputs": [],
   "source": [
    "# df\n",
    "# Create bokeh arrow based on pressure column\n",
    "# Nope.\n"
   ]
  },
  {
   "cell_type": "markdown",
   "metadata": {},
   "source": [
    "#### Plot together\n",
    "Let's take a look at the Binance Spot price and our ABTC price movements.\n",
    "\n",
    "*Note: there is an issue since intraday data is sparse for ABTC.*\n"
   ]
  },
  {
   "cell_type": "code",
   "execution_count": 181,
   "metadata": {},
   "outputs": [
    {
     "data": {
      "application/vnd.plotly.v1+json": {
       "config": {
        "plotlyServerURL": "https://plot.ly"
       },
       "data": [
        {
         "close": [
          43012.46,
          43044.13,
          43062.5,
          42983.24,
          43014.59,
          43038.01,
          43072.62,
          43120.04,
          43104.75,
          43060.99,
          43070.48,
          43049.54,
          43102.35,
          43080.28,
          43093.71,
          43078.26,
          43151.05,
          43109.66,
          43102.05,
          43097.27,
          43012.68,
          42924.37,
          43038.01,
          43021.01,
          42934.86,
          42983.69,
          42928.22,
          42949.7,
          42992.76,
          42999.53,
          43001.79,
          43012.45,
          43069.63,
          43080,
          43040.56,
          43002.96,
          42990.3,
          42984.86,
          43020.19,
          43046.31,
          43070.01,
          43034,
          43030.63,
          43007.97,
          42932.03,
          42943.9,
          42936.65,
          42968.42,
          42982.22,
          43031,
          42904.95,
          42947.03,
          42933.79,
          42940.1,
          42946.99,
          42849.99,
          42847.36,
          42823.99,
          42808.55,
          42810.84,
          42854.01,
          42921.27,
          42837.87,
          42828.06,
          42814.64,
          42775,
          42808.55,
          42847.24,
          42936.79,
          42875.58,
          42944.01,
          42984.86,
          43080.07,
          43073.35,
          43052.43,
          42978.78,
          42981.24,
          42959.09,
          43006.11,
          42990.05,
          43017.84,
          43359.9,
          43421.88,
          43582.11,
          43616,
          43537.87,
          43644.04,
          43719.46,
          43800.76,
          43781.34,
          43818.86,
          43913.01,
          43990.79,
          43778.01,
          43875.81,
          44000.01,
          43894.98,
          43900.01,
          43930.56,
          44039.23,
          44029.36,
          43939.99,
          43852.4,
          43891.93,
          43960.02,
          43903.04,
          43929.97,
          44002.19
         ],
         "high": [
          43112.01,
          43058.52,
          43150.01,
          43079.48,
          43027.29,
          43067.91,
          43109,
          43167.58,
          43132,
          43106.01,
          43089.44,
          43079.75,
          43107.25,
          43150,
          43096.31,
          43093.72,
          43155.24,
          43177.87,
          43120.25,
          43220,
          43131.82,
          43012.68,
          43041.05,
          43092.91,
          43031,
          43022,
          43025.48,
          42952.84,
          43000,
          43040,
          43026.6,
          43045.59,
          43077.13,
          43101.76,
          43080,
          43045,
          43038.56,
          43038.06,
          43048.99,
          43060,
          43084.38,
          43076.79,
          43072.12,
          43030.64,
          43007.98,
          42978.06,
          42966.27,
          42978.23,
          43006.31,
          43072.59,
          43031.01,
          42989.1,
          43024.13,
          42961.89,
          42970,
          42947,
          42870,
          42847.72,
          42879.58,
          42835.24,
          42869.99,
          42923.5,
          42924.78,
          42884.01,
          42865.9,
          42820.82,
          42994.8,
          42865.16,
          43005.28,
          42985.99,
          42958.5,
          43064.07,
          43100,
          43147.1,
          43085.14,
          43059.46,
          43005.23,
          43021.64,
          43033.77,
          43010.9,
          43023.49,
          43500,
          43427,
          43595.01,
          43720,
          43711.34,
          43644.06,
          43800,
          43831.99,
          43812,
          43842,
          43970,
          44000,
          43998,
          43911.41,
          44036.93,
          44077.67,
          43967.07,
          43960.99,
          44049.99,
          44186.78,
          44064.88,
          43977.8,
          43945.86,
          43975,
          43962.48,
          43961,
          44057.61
         ],
         "low": [
          43001,
          42984.94,
          43010.11,
          42980.01,
          42975.56,
          43011.59,
          43036.38,
          43066.22,
          43088.25,
          43060.99,
          43045.78,
          43045,
          43041.38,
          43073.2,
          43043,
          43051.14,
          43069.88,
          43109,
          43060.67,
          42840.92,
          42921.73,
          42918,
          42877.42,
          43016.73,
          42933.36,
          42930.04,
          42928.22,
          42921,
          42949.69,
          42991.62,
          42965.14,
          43001.78,
          43012.45,
          43050,
          43016.09,
          43002.96,
          42983.89,
          42933.23,
          42950.95,
          43019.57,
          43035.72,
          43033.75,
          43007.1,
          42962.67,
          42867.33,
          42914.12,
          42924.09,
          42923.46,
          42951.94,
          42956,
          42888.89,
          42900.71,
          42927.2,
          42929.93,
          42920,
          42822.04,
          42784.44,
          42741.02,
          42806,
          42779,
          42797.17,
          42854,
          42836.95,
          42813.68,
          42801,
          42770.85,
          42560.46,
          42768.26,
          42845.21,
          42875.58,
          42820.22,
          42944,
          42984.85,
          43031.24,
          43031.01,
          42929,
          42949.94,
          42941.4,
          42889.08,
          42935.29,
          42953.34,
          43015.54,
          43255.55,
          43354.82,
          43475.75,
          43468.63,
          43514.33,
          43610.01,
          43637,
          43714.08,
          43674.37,
          43764.12,
          43896.39,
          43760,
          43742,
          43859.49,
          43886.91,
          43862.37,
          43844.22,
          43880.45,
          44015.86,
          43916.92,
          43844,
          43842.04,
          43872.5,
          43900,
          43900,
          43923.17
         ],
         "open": [
          43077.75,
          43012.46,
          43044.14,
          43062.5,
          42983.25,
          43014.59,
          43038.01,
          43072.62,
          43120.04,
          43104.75,
          43061,
          43070.47,
          43049.54,
          43102.34,
          43080.28,
          43093.72,
          43078.26,
          43151.06,
          43109.67,
          43102.05,
          43097.27,
          43012.68,
          42924.36,
          43038.02,
          43021.01,
          42934.85,
          42983.68,
          42928.22,
          42949.69,
          42992.77,
          42999.53,
          43001.78,
          43012.46,
          43069.63,
          43080,
          43040.57,
          43002.96,
          42990.31,
          42984.85,
          43020.19,
          43046.32,
          43070.01,
          43034,
          43030.64,
          43007.97,
          42932.02,
          42943.89,
          42936.64,
          42968.42,
          42982.23,
          43031,
          42904.95,
          42947.04,
          42933.8,
          42940.09,
          42947,
          42849.99,
          42847.37,
          42823.99,
          42808.56,
          42810.84,
          42854.01,
          42921.28,
          42837.87,
          42828.07,
          42814.64,
          42775,
          42808.54,
          42847.24,
          42936.78,
          42875.58,
          42944.01,
          42984.85,
          43080.08,
          43073.34,
          43052.43,
          42978.79,
          42981.24,
          42959.1,
          43006.11,
          42990.06,
          43017.83,
          43359.89,
          43421.87,
          43582.11,
          43615.99,
          43537.86,
          43644.05,
          43719.46,
          43800.76,
          43781.34,
          43818.87,
          43913.01,
          43990.78,
          43778.01,
          43875.81,
          44000,
          43894.99,
          43900,
          43930.56,
          44039.23,
          44029.36,
          43939.98,
          43852.4,
          43891.93,
          43960.02,
          43903.04,
          43929.96
         ],
         "type": "candlestick",
         "x": [
          "2022-03-24T09:00:00",
          "2022-03-24T09:05:00",
          "2022-03-24T09:10:00",
          "2022-03-24T09:15:00",
          "2022-03-24T09:20:00",
          "2022-03-24T09:25:00",
          "2022-03-24T09:30:00",
          "2022-03-24T09:35:00",
          "2022-03-24T09:40:00",
          "2022-03-24T09:45:00",
          "2022-03-24T09:50:00",
          "2022-03-24T09:55:00",
          "2022-03-24T10:00:00",
          "2022-03-24T10:05:00",
          "2022-03-24T10:10:00",
          "2022-03-24T10:15:00",
          "2022-03-24T10:20:00",
          "2022-03-24T10:25:00",
          "2022-03-24T10:30:00",
          "2022-03-24T10:35:00",
          "2022-03-24T10:40:00",
          "2022-03-24T10:45:00",
          "2022-03-24T10:50:00",
          "2022-03-24T10:55:00",
          "2022-03-24T11:00:00",
          "2022-03-24T11:05:00",
          "2022-03-24T11:10:00",
          "2022-03-24T11:15:00",
          "2022-03-24T11:20:00",
          "2022-03-24T11:25:00",
          "2022-03-24T11:30:00",
          "2022-03-24T11:35:00",
          "2022-03-24T11:40:00",
          "2022-03-24T11:45:00",
          "2022-03-24T11:50:00",
          "2022-03-24T11:55:00",
          "2022-03-24T12:00:00",
          "2022-03-24T12:05:00",
          "2022-03-24T12:10:00",
          "2022-03-24T12:15:00",
          "2022-03-24T12:20:00",
          "2022-03-24T12:25:00",
          "2022-03-24T12:30:00",
          "2022-03-24T12:35:00",
          "2022-03-24T12:40:00",
          "2022-03-24T12:45:00",
          "2022-03-24T12:50:00",
          "2022-03-24T12:55:00",
          "2022-03-24T13:00:00",
          "2022-03-24T13:05:00",
          "2022-03-24T13:10:00",
          "2022-03-24T13:15:00",
          "2022-03-24T13:20:00",
          "2022-03-24T13:25:00",
          "2022-03-24T13:30:00",
          "2022-03-24T13:35:00",
          "2022-03-24T13:40:00",
          "2022-03-24T13:45:00",
          "2022-03-24T13:50:00",
          "2022-03-24T13:55:00",
          "2022-03-24T14:00:00",
          "2022-03-24T14:05:00",
          "2022-03-24T14:10:00",
          "2022-03-24T14:15:00",
          "2022-03-24T14:20:00",
          "2022-03-24T14:25:00",
          "2022-03-24T14:30:00",
          "2022-03-24T14:35:00",
          "2022-03-24T14:40:00",
          "2022-03-24T14:45:00",
          "2022-03-24T14:50:00",
          "2022-03-24T14:55:00",
          "2022-03-24T15:00:00",
          "2022-03-24T15:05:00",
          "2022-03-24T15:10:00",
          "2022-03-24T15:15:00",
          "2022-03-24T15:20:00",
          "2022-03-24T15:25:00",
          "2022-03-24T15:30:00",
          "2022-03-24T15:35:00",
          "2022-03-24T15:40:00",
          "2022-03-24T15:45:00",
          "2022-03-24T15:50:00",
          "2022-03-24T15:55:00",
          "2022-03-24T16:00:00",
          "2022-03-24T16:05:00",
          "2022-03-24T16:10:00",
          "2022-03-24T16:15:00",
          "2022-03-24T16:20:00",
          "2022-03-24T16:25:00",
          "2022-03-24T16:30:00",
          "2022-03-24T16:35:00",
          "2022-03-24T16:40:00",
          "2022-03-24T16:45:00",
          "2022-03-24T16:50:00",
          "2022-03-24T16:55:00",
          "2022-03-24T17:00:00",
          "2022-03-24T17:05:00",
          "2022-03-24T17:10:00",
          "2022-03-24T17:15:00",
          "2022-03-24T17:20:00",
          "2022-03-24T17:25:00",
          "2022-03-24T17:30:00",
          "2022-03-24T17:35:00",
          "2022-03-24T17:40:00",
          "2022-03-24T17:45:00",
          "2022-03-24T17:50:00",
          "2022-03-24T17:55:00"
         ]
        }
       ],
       "layout": {
        "height": 390,
        "margin": {
         "b": 20,
         "l": 20,
         "r": 20,
         "t": 40
        },
        "template": {
         "data": {
          "bar": [
           {
            "error_x": {
             "color": "#2a3f5f"
            },
            "error_y": {
             "color": "#2a3f5f"
            },
            "marker": {
             "line": {
              "color": "#E5ECF6",
              "width": 0.5
             },
             "pattern": {
              "fillmode": "overlay",
              "size": 10,
              "solidity": 0.2
             }
            },
            "type": "bar"
           }
          ],
          "barpolar": [
           {
            "marker": {
             "line": {
              "color": "#E5ECF6",
              "width": 0.5
             },
             "pattern": {
              "fillmode": "overlay",
              "size": 10,
              "solidity": 0.2
             }
            },
            "type": "barpolar"
           }
          ],
          "carpet": [
           {
            "aaxis": {
             "endlinecolor": "#2a3f5f",
             "gridcolor": "white",
             "linecolor": "white",
             "minorgridcolor": "white",
             "startlinecolor": "#2a3f5f"
            },
            "baxis": {
             "endlinecolor": "#2a3f5f",
             "gridcolor": "white",
             "linecolor": "white",
             "minorgridcolor": "white",
             "startlinecolor": "#2a3f5f"
            },
            "type": "carpet"
           }
          ],
          "choropleth": [
           {
            "colorbar": {
             "outlinewidth": 0,
             "ticks": ""
            },
            "type": "choropleth"
           }
          ],
          "contour": [
           {
            "colorbar": {
             "outlinewidth": 0,
             "ticks": ""
            },
            "colorscale": [
             [
              0,
              "#0d0887"
             ],
             [
              0.1111111111111111,
              "#46039f"
             ],
             [
              0.2222222222222222,
              "#7201a8"
             ],
             [
              0.3333333333333333,
              "#9c179e"
             ],
             [
              0.4444444444444444,
              "#bd3786"
             ],
             [
              0.5555555555555556,
              "#d8576b"
             ],
             [
              0.6666666666666666,
              "#ed7953"
             ],
             [
              0.7777777777777778,
              "#fb9f3a"
             ],
             [
              0.8888888888888888,
              "#fdca26"
             ],
             [
              1,
              "#f0f921"
             ]
            ],
            "type": "contour"
           }
          ],
          "contourcarpet": [
           {
            "colorbar": {
             "outlinewidth": 0,
             "ticks": ""
            },
            "type": "contourcarpet"
           }
          ],
          "heatmap": [
           {
            "colorbar": {
             "outlinewidth": 0,
             "ticks": ""
            },
            "colorscale": [
             [
              0,
              "#0d0887"
             ],
             [
              0.1111111111111111,
              "#46039f"
             ],
             [
              0.2222222222222222,
              "#7201a8"
             ],
             [
              0.3333333333333333,
              "#9c179e"
             ],
             [
              0.4444444444444444,
              "#bd3786"
             ],
             [
              0.5555555555555556,
              "#d8576b"
             ],
             [
              0.6666666666666666,
              "#ed7953"
             ],
             [
              0.7777777777777778,
              "#fb9f3a"
             ],
             [
              0.8888888888888888,
              "#fdca26"
             ],
             [
              1,
              "#f0f921"
             ]
            ],
            "type": "heatmap"
           }
          ],
          "heatmapgl": [
           {
            "colorbar": {
             "outlinewidth": 0,
             "ticks": ""
            },
            "colorscale": [
             [
              0,
              "#0d0887"
             ],
             [
              0.1111111111111111,
              "#46039f"
             ],
             [
              0.2222222222222222,
              "#7201a8"
             ],
             [
              0.3333333333333333,
              "#9c179e"
             ],
             [
              0.4444444444444444,
              "#bd3786"
             ],
             [
              0.5555555555555556,
              "#d8576b"
             ],
             [
              0.6666666666666666,
              "#ed7953"
             ],
             [
              0.7777777777777778,
              "#fb9f3a"
             ],
             [
              0.8888888888888888,
              "#fdca26"
             ],
             [
              1,
              "#f0f921"
             ]
            ],
            "type": "heatmapgl"
           }
          ],
          "histogram": [
           {
            "marker": {
             "pattern": {
              "fillmode": "overlay",
              "size": 10,
              "solidity": 0.2
             }
            },
            "type": "histogram"
           }
          ],
          "histogram2d": [
           {
            "colorbar": {
             "outlinewidth": 0,
             "ticks": ""
            },
            "colorscale": [
             [
              0,
              "#0d0887"
             ],
             [
              0.1111111111111111,
              "#46039f"
             ],
             [
              0.2222222222222222,
              "#7201a8"
             ],
             [
              0.3333333333333333,
              "#9c179e"
             ],
             [
              0.4444444444444444,
              "#bd3786"
             ],
             [
              0.5555555555555556,
              "#d8576b"
             ],
             [
              0.6666666666666666,
              "#ed7953"
             ],
             [
              0.7777777777777778,
              "#fb9f3a"
             ],
             [
              0.8888888888888888,
              "#fdca26"
             ],
             [
              1,
              "#f0f921"
             ]
            ],
            "type": "histogram2d"
           }
          ],
          "histogram2dcontour": [
           {
            "colorbar": {
             "outlinewidth": 0,
             "ticks": ""
            },
            "colorscale": [
             [
              0,
              "#0d0887"
             ],
             [
              0.1111111111111111,
              "#46039f"
             ],
             [
              0.2222222222222222,
              "#7201a8"
             ],
             [
              0.3333333333333333,
              "#9c179e"
             ],
             [
              0.4444444444444444,
              "#bd3786"
             ],
             [
              0.5555555555555556,
              "#d8576b"
             ],
             [
              0.6666666666666666,
              "#ed7953"
             ],
             [
              0.7777777777777778,
              "#fb9f3a"
             ],
             [
              0.8888888888888888,
              "#fdca26"
             ],
             [
              1,
              "#f0f921"
             ]
            ],
            "type": "histogram2dcontour"
           }
          ],
          "mesh3d": [
           {
            "colorbar": {
             "outlinewidth": 0,
             "ticks": ""
            },
            "type": "mesh3d"
           }
          ],
          "parcoords": [
           {
            "line": {
             "colorbar": {
              "outlinewidth": 0,
              "ticks": ""
             }
            },
            "type": "parcoords"
           }
          ],
          "pie": [
           {
            "automargin": true,
            "type": "pie"
           }
          ],
          "scatter": [
           {
            "marker": {
             "colorbar": {
              "outlinewidth": 0,
              "ticks": ""
             }
            },
            "type": "scatter"
           }
          ],
          "scatter3d": [
           {
            "line": {
             "colorbar": {
              "outlinewidth": 0,
              "ticks": ""
             }
            },
            "marker": {
             "colorbar": {
              "outlinewidth": 0,
              "ticks": ""
             }
            },
            "type": "scatter3d"
           }
          ],
          "scattercarpet": [
           {
            "marker": {
             "colorbar": {
              "outlinewidth": 0,
              "ticks": ""
             }
            },
            "type": "scattercarpet"
           }
          ],
          "scattergeo": [
           {
            "marker": {
             "colorbar": {
              "outlinewidth": 0,
              "ticks": ""
             }
            },
            "type": "scattergeo"
           }
          ],
          "scattergl": [
           {
            "marker": {
             "colorbar": {
              "outlinewidth": 0,
              "ticks": ""
             }
            },
            "type": "scattergl"
           }
          ],
          "scattermapbox": [
           {
            "marker": {
             "colorbar": {
              "outlinewidth": 0,
              "ticks": ""
             }
            },
            "type": "scattermapbox"
           }
          ],
          "scatterpolar": [
           {
            "marker": {
             "colorbar": {
              "outlinewidth": 0,
              "ticks": ""
             }
            },
            "type": "scatterpolar"
           }
          ],
          "scatterpolargl": [
           {
            "marker": {
             "colorbar": {
              "outlinewidth": 0,
              "ticks": ""
             }
            },
            "type": "scatterpolargl"
           }
          ],
          "scatterternary": [
           {
            "marker": {
             "colorbar": {
              "outlinewidth": 0,
              "ticks": ""
             }
            },
            "type": "scatterternary"
           }
          ],
          "surface": [
           {
            "colorbar": {
             "outlinewidth": 0,
             "ticks": ""
            },
            "colorscale": [
             [
              0,
              "#0d0887"
             ],
             [
              0.1111111111111111,
              "#46039f"
             ],
             [
              0.2222222222222222,
              "#7201a8"
             ],
             [
              0.3333333333333333,
              "#9c179e"
             ],
             [
              0.4444444444444444,
              "#bd3786"
             ],
             [
              0.5555555555555556,
              "#d8576b"
             ],
             [
              0.6666666666666666,
              "#ed7953"
             ],
             [
              0.7777777777777778,
              "#fb9f3a"
             ],
             [
              0.8888888888888888,
              "#fdca26"
             ],
             [
              1,
              "#f0f921"
             ]
            ],
            "type": "surface"
           }
          ],
          "table": [
           {
            "cells": {
             "fill": {
              "color": "#EBF0F8"
             },
             "line": {
              "color": "white"
             }
            },
            "header": {
             "fill": {
              "color": "#C8D4E3"
             },
             "line": {
              "color": "white"
             }
            },
            "type": "table"
           }
          ]
         },
         "layout": {
          "annotationdefaults": {
           "arrowcolor": "#2a3f5f",
           "arrowhead": 0,
           "arrowwidth": 1
          },
          "autotypenumbers": "strict",
          "coloraxis": {
           "colorbar": {
            "outlinewidth": 0,
            "ticks": ""
           }
          },
          "colorscale": {
           "diverging": [
            [
             0,
             "#8e0152"
            ],
            [
             0.1,
             "#c51b7d"
            ],
            [
             0.2,
             "#de77ae"
            ],
            [
             0.3,
             "#f1b6da"
            ],
            [
             0.4,
             "#fde0ef"
            ],
            [
             0.5,
             "#f7f7f7"
            ],
            [
             0.6,
             "#e6f5d0"
            ],
            [
             0.7,
             "#b8e186"
            ],
            [
             0.8,
             "#7fbc41"
            ],
            [
             0.9,
             "#4d9221"
            ],
            [
             1,
             "#276419"
            ]
           ],
           "sequential": [
            [
             0,
             "#0d0887"
            ],
            [
             0.1111111111111111,
             "#46039f"
            ],
            [
             0.2222222222222222,
             "#7201a8"
            ],
            [
             0.3333333333333333,
             "#9c179e"
            ],
            [
             0.4444444444444444,
             "#bd3786"
            ],
            [
             0.5555555555555556,
             "#d8576b"
            ],
            [
             0.6666666666666666,
             "#ed7953"
            ],
            [
             0.7777777777777778,
             "#fb9f3a"
            ],
            [
             0.8888888888888888,
             "#fdca26"
            ],
            [
             1,
             "#f0f921"
            ]
           ],
           "sequentialminus": [
            [
             0,
             "#0d0887"
            ],
            [
             0.1111111111111111,
             "#46039f"
            ],
            [
             0.2222222222222222,
             "#7201a8"
            ],
            [
             0.3333333333333333,
             "#9c179e"
            ],
            [
             0.4444444444444444,
             "#bd3786"
            ],
            [
             0.5555555555555556,
             "#d8576b"
            ],
            [
             0.6666666666666666,
             "#ed7953"
            ],
            [
             0.7777777777777778,
             "#fb9f3a"
            ],
            [
             0.8888888888888888,
             "#fdca26"
            ],
            [
             1,
             "#f0f921"
            ]
           ]
          },
          "colorway": [
           "#636efa",
           "#EF553B",
           "#00cc96",
           "#ab63fa",
           "#FFA15A",
           "#19d3f3",
           "#FF6692",
           "#B6E880",
           "#FF97FF",
           "#FECB52"
          ],
          "font": {
           "color": "#2a3f5f"
          },
          "geo": {
           "bgcolor": "white",
           "lakecolor": "white",
           "landcolor": "#E5ECF6",
           "showlakes": true,
           "showland": true,
           "subunitcolor": "white"
          },
          "hoverlabel": {
           "align": "left"
          },
          "hovermode": "closest",
          "mapbox": {
           "style": "light"
          },
          "paper_bgcolor": "white",
          "plot_bgcolor": "#E5ECF6",
          "polar": {
           "angularaxis": {
            "gridcolor": "white",
            "linecolor": "white",
            "ticks": ""
           },
           "bgcolor": "#E5ECF6",
           "radialaxis": {
            "gridcolor": "white",
            "linecolor": "white",
            "ticks": ""
           }
          },
          "scene": {
           "xaxis": {
            "backgroundcolor": "#E5ECF6",
            "gridcolor": "white",
            "gridwidth": 2,
            "linecolor": "white",
            "showbackground": true,
            "ticks": "",
            "zerolinecolor": "white"
           },
           "yaxis": {
            "backgroundcolor": "#E5ECF6",
            "gridcolor": "white",
            "gridwidth": 2,
            "linecolor": "white",
            "showbackground": true,
            "ticks": "",
            "zerolinecolor": "white"
           },
           "zaxis": {
            "backgroundcolor": "#E5ECF6",
            "gridcolor": "white",
            "gridwidth": 2,
            "linecolor": "white",
            "showbackground": true,
            "ticks": "",
            "zerolinecolor": "white"
           }
          },
          "shapedefaults": {
           "line": {
            "color": "#2a3f5f"
           }
          },
          "ternary": {
           "aaxis": {
            "gridcolor": "white",
            "linecolor": "white",
            "ticks": ""
           },
           "baxis": {
            "gridcolor": "white",
            "linecolor": "white",
            "ticks": ""
           },
           "bgcolor": "#E5ECF6",
           "caxis": {
            "gridcolor": "white",
            "linecolor": "white",
            "ticks": ""
           }
          },
          "title": {
           "x": 0.05
          },
          "xaxis": {
           "automargin": true,
           "gridcolor": "white",
           "linecolor": "white",
           "ticks": "",
           "title": {
            "standoff": 15
           },
           "zerolinecolor": "white",
           "zerolinewidth": 2
          },
          "yaxis": {
           "automargin": true,
           "gridcolor": "white",
           "linecolor": "white",
           "ticks": "",
           "title": {
            "standoff": 15
           },
           "zerolinecolor": "white",
           "zerolinewidth": 2
          }
         }
        },
        "title": {
         "text": "Binance BTCUSDT 5m"
        },
        "xaxis": {
         "rangeslider": {
          "visible": false
         }
        }
       }
      }
     },
     "metadata": {},
     "output_type": "display_data"
    },
    {
     "data": {
      "application/vnd.plotly.v1+json": {
       "config": {
        "plotlyServerURL": "https://plot.ly"
       },
       "data": [
        {
         "type": "scatter",
         "x": [
          "09:00:56.00",
          "09:11:47.95",
          "09:11:47.95",
          "09:11:47.97",
          "09:11:47.97",
          "09:21:02.36",
          "09:23:40.69",
          "09:23:40.69",
          "10:16:58.34",
          "10:16:58.34",
          "10:18:58.09",
          "10:23:34.53",
          "10:46:58.96",
          "10:46:58.98",
          "12:47:52.95",
          "12:47:52.95",
          "12:47:52.95",
          "12:47:52.97",
          "12:48:17.95",
          "12:48:57.62",
          "13:53:50.16",
          "14:53:08.05",
          "15:47:17.32",
          "15:47:17.33",
          "15:56:34.29",
          "16:17:38.35",
          "16:34:41.71",
          "16:34:41.71",
          "16:37:03.84",
          "16:37:03.84",
          "16:53:58.42",
          "17:19:58.73",
          "17:19:58.73",
          "17:27:53.51"
         ],
         "y": [
          15.194,
          15.172,
          15.184,
          15.19,
          15.19,
          15.15,
          15.156,
          15.17,
          15.176,
          15.194,
          15.18,
          15.198,
          15.148,
          15.13,
          15.128,
          15.102,
          15.004,
          14.932,
          15.132,
          15.124,
          15.112,
          15.088,
          15.35,
          15.4,
          15.312,
          15.422,
          15.446,
          15.432,
          15.46,
          15.47,
          15.474,
          15.538,
          15.55,
          15.498
         ]
        }
       ],
       "layout": {
        "height": 390,
        "margin": {
         "b": 20,
         "l": 20,
         "r": 20,
         "t": 40
        },
        "template": {
         "data": {
          "bar": [
           {
            "error_x": {
             "color": "#2a3f5f"
            },
            "error_y": {
             "color": "#2a3f5f"
            },
            "marker": {
             "line": {
              "color": "#E5ECF6",
              "width": 0.5
             },
             "pattern": {
              "fillmode": "overlay",
              "size": 10,
              "solidity": 0.2
             }
            },
            "type": "bar"
           }
          ],
          "barpolar": [
           {
            "marker": {
             "line": {
              "color": "#E5ECF6",
              "width": 0.5
             },
             "pattern": {
              "fillmode": "overlay",
              "size": 10,
              "solidity": 0.2
             }
            },
            "type": "barpolar"
           }
          ],
          "carpet": [
           {
            "aaxis": {
             "endlinecolor": "#2a3f5f",
             "gridcolor": "white",
             "linecolor": "white",
             "minorgridcolor": "white",
             "startlinecolor": "#2a3f5f"
            },
            "baxis": {
             "endlinecolor": "#2a3f5f",
             "gridcolor": "white",
             "linecolor": "white",
             "minorgridcolor": "white",
             "startlinecolor": "#2a3f5f"
            },
            "type": "carpet"
           }
          ],
          "choropleth": [
           {
            "colorbar": {
             "outlinewidth": 0,
             "ticks": ""
            },
            "type": "choropleth"
           }
          ],
          "contour": [
           {
            "colorbar": {
             "outlinewidth": 0,
             "ticks": ""
            },
            "colorscale": [
             [
              0,
              "#0d0887"
             ],
             [
              0.1111111111111111,
              "#46039f"
             ],
             [
              0.2222222222222222,
              "#7201a8"
             ],
             [
              0.3333333333333333,
              "#9c179e"
             ],
             [
              0.4444444444444444,
              "#bd3786"
             ],
             [
              0.5555555555555556,
              "#d8576b"
             ],
             [
              0.6666666666666666,
              "#ed7953"
             ],
             [
              0.7777777777777778,
              "#fb9f3a"
             ],
             [
              0.8888888888888888,
              "#fdca26"
             ],
             [
              1,
              "#f0f921"
             ]
            ],
            "type": "contour"
           }
          ],
          "contourcarpet": [
           {
            "colorbar": {
             "outlinewidth": 0,
             "ticks": ""
            },
            "type": "contourcarpet"
           }
          ],
          "heatmap": [
           {
            "colorbar": {
             "outlinewidth": 0,
             "ticks": ""
            },
            "colorscale": [
             [
              0,
              "#0d0887"
             ],
             [
              0.1111111111111111,
              "#46039f"
             ],
             [
              0.2222222222222222,
              "#7201a8"
             ],
             [
              0.3333333333333333,
              "#9c179e"
             ],
             [
              0.4444444444444444,
              "#bd3786"
             ],
             [
              0.5555555555555556,
              "#d8576b"
             ],
             [
              0.6666666666666666,
              "#ed7953"
             ],
             [
              0.7777777777777778,
              "#fb9f3a"
             ],
             [
              0.8888888888888888,
              "#fdca26"
             ],
             [
              1,
              "#f0f921"
             ]
            ],
            "type": "heatmap"
           }
          ],
          "heatmapgl": [
           {
            "colorbar": {
             "outlinewidth": 0,
             "ticks": ""
            },
            "colorscale": [
             [
              0,
              "#0d0887"
             ],
             [
              0.1111111111111111,
              "#46039f"
             ],
             [
              0.2222222222222222,
              "#7201a8"
             ],
             [
              0.3333333333333333,
              "#9c179e"
             ],
             [
              0.4444444444444444,
              "#bd3786"
             ],
             [
              0.5555555555555556,
              "#d8576b"
             ],
             [
              0.6666666666666666,
              "#ed7953"
             ],
             [
              0.7777777777777778,
              "#fb9f3a"
             ],
             [
              0.8888888888888888,
              "#fdca26"
             ],
             [
              1,
              "#f0f921"
             ]
            ],
            "type": "heatmapgl"
           }
          ],
          "histogram": [
           {
            "marker": {
             "pattern": {
              "fillmode": "overlay",
              "size": 10,
              "solidity": 0.2
             }
            },
            "type": "histogram"
           }
          ],
          "histogram2d": [
           {
            "colorbar": {
             "outlinewidth": 0,
             "ticks": ""
            },
            "colorscale": [
             [
              0,
              "#0d0887"
             ],
             [
              0.1111111111111111,
              "#46039f"
             ],
             [
              0.2222222222222222,
              "#7201a8"
             ],
             [
              0.3333333333333333,
              "#9c179e"
             ],
             [
              0.4444444444444444,
              "#bd3786"
             ],
             [
              0.5555555555555556,
              "#d8576b"
             ],
             [
              0.6666666666666666,
              "#ed7953"
             ],
             [
              0.7777777777777778,
              "#fb9f3a"
             ],
             [
              0.8888888888888888,
              "#fdca26"
             ],
             [
              1,
              "#f0f921"
             ]
            ],
            "type": "histogram2d"
           }
          ],
          "histogram2dcontour": [
           {
            "colorbar": {
             "outlinewidth": 0,
             "ticks": ""
            },
            "colorscale": [
             [
              0,
              "#0d0887"
             ],
             [
              0.1111111111111111,
              "#46039f"
             ],
             [
              0.2222222222222222,
              "#7201a8"
             ],
             [
              0.3333333333333333,
              "#9c179e"
             ],
             [
              0.4444444444444444,
              "#bd3786"
             ],
             [
              0.5555555555555556,
              "#d8576b"
             ],
             [
              0.6666666666666666,
              "#ed7953"
             ],
             [
              0.7777777777777778,
              "#fb9f3a"
             ],
             [
              0.8888888888888888,
              "#fdca26"
             ],
             [
              1,
              "#f0f921"
             ]
            ],
            "type": "histogram2dcontour"
           }
          ],
          "mesh3d": [
           {
            "colorbar": {
             "outlinewidth": 0,
             "ticks": ""
            },
            "type": "mesh3d"
           }
          ],
          "parcoords": [
           {
            "line": {
             "colorbar": {
              "outlinewidth": 0,
              "ticks": ""
             }
            },
            "type": "parcoords"
           }
          ],
          "pie": [
           {
            "automargin": true,
            "type": "pie"
           }
          ],
          "scatter": [
           {
            "marker": {
             "colorbar": {
              "outlinewidth": 0,
              "ticks": ""
             }
            },
            "type": "scatter"
           }
          ],
          "scatter3d": [
           {
            "line": {
             "colorbar": {
              "outlinewidth": 0,
              "ticks": ""
             }
            },
            "marker": {
             "colorbar": {
              "outlinewidth": 0,
              "ticks": ""
             }
            },
            "type": "scatter3d"
           }
          ],
          "scattercarpet": [
           {
            "marker": {
             "colorbar": {
              "outlinewidth": 0,
              "ticks": ""
             }
            },
            "type": "scattercarpet"
           }
          ],
          "scattergeo": [
           {
            "marker": {
             "colorbar": {
              "outlinewidth": 0,
              "ticks": ""
             }
            },
            "type": "scattergeo"
           }
          ],
          "scattergl": [
           {
            "marker": {
             "colorbar": {
              "outlinewidth": 0,
              "ticks": ""
             }
            },
            "type": "scattergl"
           }
          ],
          "scattermapbox": [
           {
            "marker": {
             "colorbar": {
              "outlinewidth": 0,
              "ticks": ""
             }
            },
            "type": "scattermapbox"
           }
          ],
          "scatterpolar": [
           {
            "marker": {
             "colorbar": {
              "outlinewidth": 0,
              "ticks": ""
             }
            },
            "type": "scatterpolar"
           }
          ],
          "scatterpolargl": [
           {
            "marker": {
             "colorbar": {
              "outlinewidth": 0,
              "ticks": ""
             }
            },
            "type": "scatterpolargl"
           }
          ],
          "scatterternary": [
           {
            "marker": {
             "colorbar": {
              "outlinewidth": 0,
              "ticks": ""
             }
            },
            "type": "scatterternary"
           }
          ],
          "surface": [
           {
            "colorbar": {
             "outlinewidth": 0,
             "ticks": ""
            },
            "colorscale": [
             [
              0,
              "#0d0887"
             ],
             [
              0.1111111111111111,
              "#46039f"
             ],
             [
              0.2222222222222222,
              "#7201a8"
             ],
             [
              0.3333333333333333,
              "#9c179e"
             ],
             [
              0.4444444444444444,
              "#bd3786"
             ],
             [
              0.5555555555555556,
              "#d8576b"
             ],
             [
              0.6666666666666666,
              "#ed7953"
             ],
             [
              0.7777777777777778,
              "#fb9f3a"
             ],
             [
              0.8888888888888888,
              "#fdca26"
             ],
             [
              1,
              "#f0f921"
             ]
            ],
            "type": "surface"
           }
          ],
          "table": [
           {
            "cells": {
             "fill": {
              "color": "#EBF0F8"
             },
             "line": {
              "color": "white"
             }
            },
            "header": {
             "fill": {
              "color": "#C8D4E3"
             },
             "line": {
              "color": "white"
             }
            },
            "type": "table"
           }
          ]
         },
         "layout": {
          "annotationdefaults": {
           "arrowcolor": "#2a3f5f",
           "arrowhead": 0,
           "arrowwidth": 1
          },
          "autotypenumbers": "strict",
          "coloraxis": {
           "colorbar": {
            "outlinewidth": 0,
            "ticks": ""
           }
          },
          "colorscale": {
           "diverging": [
            [
             0,
             "#8e0152"
            ],
            [
             0.1,
             "#c51b7d"
            ],
            [
             0.2,
             "#de77ae"
            ],
            [
             0.3,
             "#f1b6da"
            ],
            [
             0.4,
             "#fde0ef"
            ],
            [
             0.5,
             "#f7f7f7"
            ],
            [
             0.6,
             "#e6f5d0"
            ],
            [
             0.7,
             "#b8e186"
            ],
            [
             0.8,
             "#7fbc41"
            ],
            [
             0.9,
             "#4d9221"
            ],
            [
             1,
             "#276419"
            ]
           ],
           "sequential": [
            [
             0,
             "#0d0887"
            ],
            [
             0.1111111111111111,
             "#46039f"
            ],
            [
             0.2222222222222222,
             "#7201a8"
            ],
            [
             0.3333333333333333,
             "#9c179e"
            ],
            [
             0.4444444444444444,
             "#bd3786"
            ],
            [
             0.5555555555555556,
             "#d8576b"
            ],
            [
             0.6666666666666666,
             "#ed7953"
            ],
            [
             0.7777777777777778,
             "#fb9f3a"
            ],
            [
             0.8888888888888888,
             "#fdca26"
            ],
            [
             1,
             "#f0f921"
            ]
           ],
           "sequentialminus": [
            [
             0,
             "#0d0887"
            ],
            [
             0.1111111111111111,
             "#46039f"
            ],
            [
             0.2222222222222222,
             "#7201a8"
            ],
            [
             0.3333333333333333,
             "#9c179e"
            ],
            [
             0.4444444444444444,
             "#bd3786"
            ],
            [
             0.5555555555555556,
             "#d8576b"
            ],
            [
             0.6666666666666666,
             "#ed7953"
            ],
            [
             0.7777777777777778,
             "#fb9f3a"
            ],
            [
             0.8888888888888888,
             "#fdca26"
            ],
            [
             1,
             "#f0f921"
            ]
           ]
          },
          "colorway": [
           "#636efa",
           "#EF553B",
           "#00cc96",
           "#ab63fa",
           "#FFA15A",
           "#19d3f3",
           "#FF6692",
           "#B6E880",
           "#FF97FF",
           "#FECB52"
          ],
          "font": {
           "color": "#2a3f5f"
          },
          "geo": {
           "bgcolor": "white",
           "lakecolor": "white",
           "landcolor": "#E5ECF6",
           "showlakes": true,
           "showland": true,
           "subunitcolor": "white"
          },
          "hoverlabel": {
           "align": "left"
          },
          "hovermode": "closest",
          "mapbox": {
           "style": "light"
          },
          "paper_bgcolor": "white",
          "plot_bgcolor": "#E5ECF6",
          "polar": {
           "angularaxis": {
            "gridcolor": "white",
            "linecolor": "white",
            "ticks": ""
           },
           "bgcolor": "#E5ECF6",
           "radialaxis": {
            "gridcolor": "white",
            "linecolor": "white",
            "ticks": ""
           }
          },
          "scene": {
           "xaxis": {
            "backgroundcolor": "#E5ECF6",
            "gridcolor": "white",
            "gridwidth": 2,
            "linecolor": "white",
            "showbackground": true,
            "ticks": "",
            "zerolinecolor": "white"
           },
           "yaxis": {
            "backgroundcolor": "#E5ECF6",
            "gridcolor": "white",
            "gridwidth": 2,
            "linecolor": "white",
            "showbackground": true,
            "ticks": "",
            "zerolinecolor": "white"
           },
           "zaxis": {
            "backgroundcolor": "#E5ECF6",
            "gridcolor": "white",
            "gridwidth": 2,
            "linecolor": "white",
            "showbackground": true,
            "ticks": "",
            "zerolinecolor": "white"
           }
          },
          "shapedefaults": {
           "line": {
            "color": "#2a3f5f"
           }
          },
          "ternary": {
           "aaxis": {
            "gridcolor": "white",
            "linecolor": "white",
            "ticks": ""
           },
           "baxis": {
            "gridcolor": "white",
            "linecolor": "white",
            "ticks": ""
           },
           "bgcolor": "#E5ECF6",
           "caxis": {
            "gridcolor": "white",
            "linecolor": "white",
            "ticks": ""
           }
          },
          "title": {
           "x": 0.05
          },
          "xaxis": {
           "automargin": true,
           "gridcolor": "white",
           "linecolor": "white",
           "ticks": "",
           "title": {
            "standoff": 15
           },
           "zerolinecolor": "white",
           "zerolinewidth": 2
          },
          "yaxis": {
           "automargin": true,
           "gridcolor": "white",
           "linecolor": "white",
           "ticks": "",
           "title": {
            "standoff": 15
           },
           "zerolinecolor": "white",
           "zerolinewidth": 2
          }
         }
        },
        "title": {
         "text": "SIX ABTC price movement"
        },
        "xaxis": {
         "rangeslider": {
          "visible": false
         }
        }
       }
      }
     },
     "metadata": {},
     "output_type": "display_data"
    }
   ],
   "source": [
    "import plotly.graph_objects as go\n",
    "margins = dict(l=20, r=20, b=20, t=40)\n",
    "\n",
    "fig = go.Figure(data=[go.Candlestick(x=data['date'],\n",
    "                open=data['Open'], high=data['High'],\n",
    "                low=data['Low'], close=data['Close'])\n",
    "                     ])\n",
    "\n",
    "fig.update_layout(xaxis_rangeslider_visible=False, title_text=\"Binance BTCUSDT 5m\", margin=margins, height=390)\n",
    "fig.show()\n",
    "\n",
    "fig2 = go.Figure(data=[go.Line(x=df['Time'], y=df['Price']), ])\n",
    "fig2.update_layout(xaxis_rangeslider_visible=False, title_text=\"SIX ABTC price movement\", margin=margins, height=390)\n",
    "fig2.show()"
   ]
  },
  {
   "cell_type": "code",
   "execution_count": 182,
   "metadata": {},
   "outputs": [
    {
     "data": {
      "text/html": [
       "<div>\n",
       "<style scoped>\n",
       "    .dataframe tbody tr th:only-of-type {\n",
       "        vertical-align: middle;\n",
       "    }\n",
       "\n",
       "    .dataframe tbody tr th {\n",
       "        vertical-align: top;\n",
       "    }\n",
       "\n",
       "    .dataframe thead th {\n",
       "        text-align: right;\n",
       "    }\n",
       "</style>\n",
       "<table border=\"1\" class=\"dataframe\">\n",
       "  <thead>\n",
       "    <tr style=\"text-align: right;\">\n",
       "      <th></th>\n",
       "      <th>Time</th>\n",
       "      <th>Price</th>\n",
       "      <th>Volume</th>\n",
       "      <th>Delta</th>\n",
       "      <th>Pressure</th>\n",
       "      <th>date</th>\n",
       "    </tr>\n",
       "  </thead>\n",
       "  <tbody>\n",
       "    <tr>\n",
       "      <th>30</th>\n",
       "      <td>09:11:47.97</td>\n",
       "      <td>15.190</td>\n",
       "      <td>5103</td>\n",
       "      <td>0.000395</td>\n",
       "      <td>0</td>\n",
       "      <td>2022-03-24 09:11:47</td>\n",
       "    </tr>\n",
       "    <tr>\n",
       "      <th>19</th>\n",
       "      <td>12:47:52.95</td>\n",
       "      <td>15.128</td>\n",
       "      <td>4009</td>\n",
       "      <td>-0.000132</td>\n",
       "      <td>SELL</td>\n",
       "      <td>2022-03-24 12:47:52</td>\n",
       "    </tr>\n",
       "    <tr>\n",
       "      <th>31</th>\n",
       "      <td>09:11:47.95</td>\n",
       "      <td>15.184</td>\n",
       "      <td>4009</td>\n",
       "      <td>0.000791</td>\n",
       "      <td>BUY</td>\n",
       "      <td>2022-03-24 09:11:47</td>\n",
       "    </tr>\n",
       "    <tr>\n",
       "      <th>11</th>\n",
       "      <td>15:47:17.32</td>\n",
       "      <td>15.350</td>\n",
       "      <td>3800</td>\n",
       "      <td>0.017365</td>\n",
       "      <td>BUY</td>\n",
       "      <td>2022-03-24 15:47:17</td>\n",
       "    </tr>\n",
       "    <tr>\n",
       "      <th>6</th>\n",
       "      <td>16:34:41.71</td>\n",
       "      <td>15.432</td>\n",
       "      <td>2000</td>\n",
       "      <td>-0.000906</td>\n",
       "      <td>BUY</td>\n",
       "      <td>2022-03-24 16:34:41</td>\n",
       "    </tr>\n",
       "  </tbody>\n",
       "</table>\n",
       "</div>"
      ],
      "text/plain": [
       "           Time   Price  Volume     Delta Pressure                date\n",
       "30  09:11:47.97  15.190    5103  0.000395        0 2022-03-24 09:11:47\n",
       "19  12:47:52.95  15.128    4009 -0.000132     SELL 2022-03-24 12:47:52\n",
       "31  09:11:47.95  15.184    4009  0.000791      BUY 2022-03-24 09:11:47\n",
       "11  15:47:17.32  15.350    3800  0.017365      BUY 2022-03-24 15:47:17\n",
       "6   16:34:41.71  15.432    2000 -0.000906      BUY 2022-03-24 16:34:41"
      ]
     },
     "execution_count": 182,
     "metadata": {},
     "output_type": "execute_result"
    }
   ],
   "source": [
    "df.sort_values(by='Volume', ascending=False).head()"
   ]
  },
  {
   "cell_type": "markdown",
   "metadata": {},
   "source": [
    "**Help needed:**  \n",
    "I want to combine the Binance date column into the SIX df date column, and then forward fill the price values for all NaN.  \n",
    "This will allow us to plot a more accurate line price graph, instead of the distorted one above.  \n",
    "I couldn't figure out how to do the above - but it would not fix the issue where multiple price values are given for the same point in time (we see it in the line above)."
   ]
  },
  {
   "cell_type": "code",
   "execution_count": 183,
   "metadata": {},
   "outputs": [
    {
     "name": "stdout",
     "output_type": "stream",
     "text": [
      "Assuming none of the dates are duplicates, after combining we should have 142 rows\n",
      "Combined columns are:  142\n"
     ]
    }
   ],
   "source": [
    "# cat all values of data['date'] to df['date']\n",
    "print('Assuming none of the dates are duplicates, after combining we should have {} rows'.format(len(data) + len(df)))\n",
    "temp = df.date.combine_first(data['date'])\n",
    "print('Combined columns are: ', len(temp.values))\n",
    "# \n",
    "#\n",
    "# I have been stumped.  Let's move on."
   ]
  },
  {
   "cell_type": "markdown",
   "metadata": {},
   "source": [
    "## Dialing in\n",
    "Let's take a look at the chart for the previously mentioned interesting points in time:   \n",
    "12:47:52.95\t  \n",
    "15:47:17.32\t"
   ]
  },
  {
   "cell_type": "markdown",
   "metadata": {},
   "source": [
    "#### Hypothesis:\n",
    "We will see movements at Binance for BTCUSDT preceed the price movements at SIX of ABTC.\n",
    "\n",
    "Note: it seems that historical order book data is not available freely without API key and possibly not without creating it yourself in realtime."
   ]
  },
  {
   "cell_type": "markdown",
   "metadata": {},
   "source": [
    "Let's check the first time frame and compare to actual price movement."
   ]
  },
  {
   "cell_type": "code",
   "execution_count": 184,
   "metadata": {},
   "outputs": [
    {
     "data": {
      "text/html": [
       "<div>\n",
       "<style scoped>\n",
       "    .dataframe tbody tr th:only-of-type {\n",
       "        vertical-align: middle;\n",
       "    }\n",
       "\n",
       "    .dataframe tbody tr th {\n",
       "        vertical-align: top;\n",
       "    }\n",
       "\n",
       "    .dataframe thead th {\n",
       "        text-align: right;\n",
       "    }\n",
       "</style>\n",
       "<table border=\"1\" class=\"dataframe\">\n",
       "  <thead>\n",
       "    <tr style=\"text-align: right;\">\n",
       "      <th></th>\n",
       "      <th>Time</th>\n",
       "      <th>Price</th>\n",
       "      <th>Volume</th>\n",
       "      <th>Delta</th>\n",
       "      <th>Pressure</th>\n",
       "      <th>date</th>\n",
       "    </tr>\n",
       "  </thead>\n",
       "  <tbody>\n",
       "    <tr>\n",
       "      <th>19</th>\n",
       "      <td>12:47:52.95</td>\n",
       "      <td>15.128</td>\n",
       "      <td>4009</td>\n",
       "      <td>-0.000132</td>\n",
       "      <td>SELL</td>\n",
       "      <td>2022-03-24 12:47:52</td>\n",
       "    </tr>\n",
       "    <tr>\n",
       "      <th>18</th>\n",
       "      <td>12:47:52.95</td>\n",
       "      <td>15.102</td>\n",
       "      <td>593</td>\n",
       "      <td>-0.001719</td>\n",
       "      <td>SELL</td>\n",
       "      <td>2022-03-24 12:47:52</td>\n",
       "    </tr>\n",
       "    <tr>\n",
       "      <th>17</th>\n",
       "      <td>12:47:52.95</td>\n",
       "      <td>15.004</td>\n",
       "      <td>1701</td>\n",
       "      <td>-0.006489</td>\n",
       "      <td>SELL</td>\n",
       "      <td>2022-03-24 12:47:52</td>\n",
       "    </tr>\n",
       "    <tr>\n",
       "      <th>16</th>\n",
       "      <td>12:47:52.97</td>\n",
       "      <td>14.932</td>\n",
       "      <td>1806</td>\n",
       "      <td>-0.004799</td>\n",
       "      <td>BUY</td>\n",
       "      <td>2022-03-24 12:47:52</td>\n",
       "    </tr>\n",
       "    <tr>\n",
       "      <th>15</th>\n",
       "      <td>12:48:17.95</td>\n",
       "      <td>15.132</td>\n",
       "      <td>500</td>\n",
       "      <td>0.013394</td>\n",
       "      <td>SELL</td>\n",
       "      <td>2022-03-24 12:48:17</td>\n",
       "    </tr>\n",
       "    <tr>\n",
       "      <th>14</th>\n",
       "      <td>12:48:57.62</td>\n",
       "      <td>15.124</td>\n",
       "      <td>1306</td>\n",
       "      <td>-0.000529</td>\n",
       "      <td>SELL</td>\n",
       "      <td>2022-03-24 12:48:57</td>\n",
       "    </tr>\n",
       "  </tbody>\n",
       "</table>\n",
       "</div>"
      ],
      "text/plain": [
       "           Time   Price  Volume     Delta Pressure                date\n",
       "19  12:47:52.95  15.128    4009 -0.000132     SELL 2022-03-24 12:47:52\n",
       "18  12:47:52.95  15.102     593 -0.001719     SELL 2022-03-24 12:47:52\n",
       "17  12:47:52.95  15.004    1701 -0.006489     SELL 2022-03-24 12:47:52\n",
       "16  12:47:52.97  14.932    1806 -0.004799      BUY 2022-03-24 12:47:52\n",
       "15  12:48:17.95  15.132     500  0.013394     SELL 2022-03-24 12:48:17\n",
       "14  12:48:57.62  15.124    1306 -0.000529     SELL 2022-03-24 12:48:57"
      ]
     },
     "execution_count": 184,
     "metadata": {},
     "output_type": "execute_result"
    }
   ],
   "source": [
    "df[14:20]"
   ]
  },
  {
   "cell_type": "markdown",
   "metadata": {},
   "source": [
    "What was going on on Binance?  \n",
    "*Recall that Binance is on GMT*"
   ]
  },
  {
   "cell_type": "markdown",
   "metadata": {},
   "source": [
    "![Before Noon](tv_images/noise.png)"
   ]
  },
  {
   "cell_type": "markdown",
   "metadata": {},
   "source": [
    "The above looks largely inconsequential.  Unsure what to conclude here.  We can discuss if desired.\n",
    "\n",
    "Let's check the second time period."
   ]
  },
  {
   "cell_type": "code",
   "execution_count": 186,
   "metadata": {},
   "outputs": [
    {
     "data": {
      "text/html": [
       "<div>\n",
       "<style scoped>\n",
       "    .dataframe tbody tr th:only-of-type {\n",
       "        vertical-align: middle;\n",
       "    }\n",
       "\n",
       "    .dataframe tbody tr th {\n",
       "        vertical-align: top;\n",
       "    }\n",
       "\n",
       "    .dataframe thead th {\n",
       "        text-align: right;\n",
       "    }\n",
       "</style>\n",
       "<table border=\"1\" class=\"dataframe\">\n",
       "  <thead>\n",
       "    <tr style=\"text-align: right;\">\n",
       "      <th></th>\n",
       "      <th>Time</th>\n",
       "      <th>Price</th>\n",
       "      <th>Volume</th>\n",
       "      <th>Delta</th>\n",
       "      <th>Pressure</th>\n",
       "      <th>date</th>\n",
       "    </tr>\n",
       "  </thead>\n",
       "  <tbody>\n",
       "    <tr>\n",
       "      <th>13</th>\n",
       "      <td>13:53:50.16</td>\n",
       "      <td>15.112</td>\n",
       "      <td>290</td>\n",
       "      <td>-0.000793</td>\n",
       "      <td>SELL</td>\n",
       "      <td>2022-03-24 13:53:50</td>\n",
       "    </tr>\n",
       "    <tr>\n",
       "      <th>12</th>\n",
       "      <td>14:53:08.05</td>\n",
       "      <td>15.088</td>\n",
       "      <td>250</td>\n",
       "      <td>-0.001588</td>\n",
       "      <td>BUY</td>\n",
       "      <td>2022-03-24 14:53:08</td>\n",
       "    </tr>\n",
       "    <tr>\n",
       "      <th>11</th>\n",
       "      <td>15:47:17.32</td>\n",
       "      <td>15.350</td>\n",
       "      <td>3800</td>\n",
       "      <td>0.017365</td>\n",
       "      <td>BUY</td>\n",
       "      <td>2022-03-24 15:47:17</td>\n",
       "    </tr>\n",
       "    <tr>\n",
       "      <th>10</th>\n",
       "      <td>15:47:17.33</td>\n",
       "      <td>15.400</td>\n",
       "      <td>15</td>\n",
       "      <td>0.003257</td>\n",
       "      <td>SELL</td>\n",
       "      <td>2022-03-24 15:47:17</td>\n",
       "    </tr>\n",
       "    <tr>\n",
       "      <th>9</th>\n",
       "      <td>15:56:34.29</td>\n",
       "      <td>15.312</td>\n",
       "      <td>342</td>\n",
       "      <td>-0.005714</td>\n",
       "      <td>BUY</td>\n",
       "      <td>2022-03-24 15:56:34</td>\n",
       "    </tr>\n",
       "  </tbody>\n",
       "</table>\n",
       "</div>"
      ],
      "text/plain": [
       "           Time   Price  Volume     Delta Pressure                date\n",
       "13  13:53:50.16  15.112     290 -0.000793     SELL 2022-03-24 13:53:50\n",
       "12  14:53:08.05  15.088     250 -0.001588      BUY 2022-03-24 14:53:08\n",
       "11  15:47:17.32  15.350    3800  0.017365      BUY 2022-03-24 15:47:17\n",
       "10  15:47:17.33  15.400      15  0.003257     SELL 2022-03-24 15:47:17\n",
       "9   15:56:34.29  15.312     342 -0.005714      BUY 2022-03-24 15:56:34"
      ]
     },
     "execution_count": 186,
     "metadata": {},
     "output_type": "execute_result"
    }
   ],
   "source": [
    "df[20:25]"
   ]
  },
  {
   "cell_type": "markdown",
   "metadata": {},
   "source": [
    "First let's look at the daily 1m bars.  Notice how this looks similar enough to our earlier 5m plot with bokeh:  \n",
    "\n",
    "![Daily](tv_images/zoom_out.png)"
   ]
  },
  {
   "cell_type": "markdown",
   "metadata": {},
   "source": [
    "Zooming in towards 15:47:17.33 where we had a huge price hike:\n",
    "\n",
    "![Zoom In](tv_images/zoom_in.png)"
   ]
  },
  {
   "cell_type": "markdown",
   "metadata": {},
   "source": [
    "#### Conclusion:\n",
    "ABTC on SIX is liquid enough to follow the Binance spot price within one minute of a 0.77% price change.  \n",
    "If we compared the different currency tickers, I suspect that we could find arbitrage opportunities here as well.\n",
    "\n"
   ]
  },
  {
   "cell_type": "markdown",
   "metadata": {},
   "source": [
    "## What about live liquidity?\n",
    "Let's find out how much liquidity is in the underlying and graph it."
   ]
  },
  {
   "cell_type": "code",
   "execution_count": 187,
   "metadata": {},
   "outputs": [
    {
     "data": {
      "text/html": [
       "<div>\n",
       "<style scoped>\n",
       "    .dataframe tbody tr th:only-of-type {\n",
       "        vertical-align: middle;\n",
       "    }\n",
       "\n",
       "    .dataframe tbody tr th {\n",
       "        vertical-align: top;\n",
       "    }\n",
       "\n",
       "    .dataframe thead th {\n",
       "        text-align: right;\n",
       "    }\n",
       "</style>\n",
       "<table border=\"1\" class=\"dataframe\">\n",
       "  <thead>\n",
       "    <tr style=\"text-align: right;\">\n",
       "      <th></th>\n",
       "      <th>price</th>\n",
       "      <th>quantity</th>\n",
       "      <th>side</th>\n",
       "    </tr>\n",
       "  </thead>\n",
       "  <tbody>\n",
       "    <tr>\n",
       "      <th>0</th>\n",
       "      <td>46681.69</td>\n",
       "      <td>8.17701</td>\n",
       "      <td>bids</td>\n",
       "    </tr>\n",
       "    <tr>\n",
       "      <th>1</th>\n",
       "      <td>46680.79</td>\n",
       "      <td>0.12852</td>\n",
       "      <td>bids</td>\n",
       "    </tr>\n",
       "    <tr>\n",
       "      <th>2</th>\n",
       "      <td>46680.78</td>\n",
       "      <td>1.30000</td>\n",
       "      <td>bids</td>\n",
       "    </tr>\n",
       "    <tr>\n",
       "      <th>3</th>\n",
       "      <td>46679.50</td>\n",
       "      <td>0.41100</td>\n",
       "      <td>bids</td>\n",
       "    </tr>\n",
       "    <tr>\n",
       "      <th>4</th>\n",
       "      <td>46679.33</td>\n",
       "      <td>0.21477</td>\n",
       "      <td>bids</td>\n",
       "    </tr>\n",
       "    <tr>\n",
       "      <th>...</th>\n",
       "      <td>...</td>\n",
       "      <td>...</td>\n",
       "      <td>...</td>\n",
       "    </tr>\n",
       "    <tr>\n",
       "      <th>195</th>\n",
       "      <td>46708.32</td>\n",
       "      <td>0.00773</td>\n",
       "      <td>asks</td>\n",
       "    </tr>\n",
       "    <tr>\n",
       "      <th>196</th>\n",
       "      <td>46708.53</td>\n",
       "      <td>0.00054</td>\n",
       "      <td>asks</td>\n",
       "    </tr>\n",
       "    <tr>\n",
       "      <th>197</th>\n",
       "      <td>46709.53</td>\n",
       "      <td>0.00250</td>\n",
       "      <td>asks</td>\n",
       "    </tr>\n",
       "    <tr>\n",
       "      <th>198</th>\n",
       "      <td>46709.57</td>\n",
       "      <td>0.00900</td>\n",
       "      <td>asks</td>\n",
       "    </tr>\n",
       "    <tr>\n",
       "      <th>199</th>\n",
       "      <td>46710.00</td>\n",
       "      <td>0.11208</td>\n",
       "      <td>asks</td>\n",
       "    </tr>\n",
       "  </tbody>\n",
       "</table>\n",
       "<p>200 rows × 3 columns</p>\n",
       "</div>"
      ],
      "text/plain": [
       "        price  quantity  side\n",
       "0    46681.69   8.17701  bids\n",
       "1    46680.79   0.12852  bids\n",
       "2    46680.78   1.30000  bids\n",
       "3    46679.50   0.41100  bids\n",
       "4    46679.33   0.21477  bids\n",
       "..        ...       ...   ...\n",
       "195  46708.32   0.00773  asks\n",
       "196  46708.53   0.00054  asks\n",
       "197  46709.53   0.00250  asks\n",
       "198  46709.57   0.00900  asks\n",
       "199  46710.00   0.11208  asks\n",
       "\n",
       "[200 rows x 3 columns]"
      ]
     },
     "execution_count": 187,
     "metadata": {},
     "output_type": "execute_result"
    }
   ],
   "source": [
    "# 100 orders past top of book\n",
    "r = requests.get(\"https://api.binance.com/api/v3/depth\", params=dict(symbol=\"BTCUSDT\", limit=100))\n",
    "results = r.json()\n",
    "frames = {side: pd.DataFrame(data=results[side], columns=[\"price\", \"quantity\"],\n",
    "                             dtype=float) for side in [\"bids\", \"asks\"]}\n",
    "frames_list = [frames[side].assign(side=side) for side in frames]\n",
    "data = pd.concat(frames_list, axis=\"index\", ignore_index=True, sort=True)\n",
    "price_summary = data.groupby(\"side\").price.describe()\n",
    "price_summary\n",
    "data"
   ]
  },
  {
   "cell_type": "code",
   "execution_count": 188,
   "metadata": {},
   "outputs": [
    {
     "name": "stdout",
     "output_type": "stream",
     "text": [
      "The current highest bid is $46681.69\n",
      "The current lowest ask is $46681.70\n"
     ]
    }
   ],
   "source": [
    "max = frames[\"bids\"].price.max()\n",
    "min = frames[\"asks\"].price.min()\n",
    "print('The current highest bid is ${0:.2f}'.format(max))\n",
    "print('The current lowest ask is ${0:.2f}'.format(min))"
   ]
  },
  {
   "cell_type": "markdown",
   "metadata": {},
   "source": [
    "We've looked at a bit too much data.  Let's start wrapping up.  \n",
    "How much depth is there to the current liquidity?"
   ]
  },
  {
   "cell_type": "code",
   "execution_count": 189,
   "metadata": {},
   "outputs": [
    {
     "data": {
      "text/plain": [
       "bidPrice    46691.93000\n",
       "bidQty          0.80449\n",
       "askPrice    46691.94000\n",
       "askQty          1.23860\n",
       "Name: BTCUSDT, dtype: float64"
      ]
     },
     "execution_count": 189,
     "metadata": {},
     "output_type": "execute_result"
    }
   ],
   "source": [
    "r = requests.get(\"https://api.binance.com/api/v3/ticker/bookTicker\", params=dict(symbol=\"BTCUSDT\"))\n",
    "book_top = r.json()\n",
    "name = book_top.pop(\"symbol\")  # get symbol and also delete at the same time\n",
    "s = pd.Series(book_top, name=name, dtype=float)\n",
    "s\n"
   ]
  },
  {
   "cell_type": "code",
   "execution_count": 190,
   "metadata": {},
   "outputs": [
    {
     "data": {
      "image/png": "[encoded data removed]",
      "text/plain": [
       "<Figure size 864x432 with 1 Axes>"
      ]
     },
     "metadata": {},
     "output_type": "display_data"
    }
   ],
   "source": [
    "# Order book scatter plot\n",
    "fig, ax = plt.subplots()\n",
    "\n",
    "ax.set_title(f\"Current Order Book Depth for {name}\")\n",
    "\n",
    "sns.scatterplot(x=\"price\", y=\"quantity\", hue=\"side\", data=data, ax=ax)\n",
    "\n",
    "ax.set_xlabel(\"Price\")\n",
    "ax.set_ylabel(\"Quantity\")\n",
    "\n",
    "plt.show()"
   ]
  },
  {
   "cell_type": "code",
   "execution_count": 191,
   "metadata": {},
   "outputs": [
    {
     "data": {
      "image/png": "[encoded data removed]",
      "text/plain": [
       "<Figure size 864x432 with 1 Axes>"
      ]
     },
     "metadata": {},
     "output_type": "display_data"
    }
   ],
   "source": [
    "# Order book histogram\n",
    "fig, ax = plt.subplots()\n",
    "\n",
    "ax.set_title(f\"Current Order Book Depth for {name}\")\n",
    "\n",
    "sns.histplot(x=\"price\", hue=\"side\", binwidth=1, data=data, ax=ax)\n",
    "sns.rugplot(x=\"price\", hue=\"side\", data=data, ax=ax)\n",
    "\n",
    "plt.show()"
   ]
  },
  {
   "cell_type": "markdown",
   "metadata": {},
   "source": []
  },
  {
   "cell_type": "code",
   "execution_count": 192,
   "metadata": {},
   "outputs": [
    {
     "data": {
      "image/png": "[encoded data removed]",
      "text/plain": [
       "<Figure size 864x432 with 1 Axes>"
      ]
     },
     "metadata": {},
     "output_type": "display_data"
    }
   ],
   "source": [
    "# Order book weighted histogram - now we are getting somewhere\n",
    "fig, ax = plt.subplots()\n",
    "\n",
    "ax.set_title(f\"Current Order Book Depth for {name}\")\n",
    "\n",
    "sns.histplot(x=\"price\", weights=\"quantity\", hue=\"side\", binwidth=1, data=data, ax=ax)\n",
    "sns.scatterplot(x=\"price\", y=\"quantity\", hue=\"side\", data=data, ax=ax)\n",
    "\n",
    "ax.set_xlabel(\"Price\")\n",
    "ax.set_ylabel(\"Quantity\")\n",
    "\n",
    "plt.show()"
   ]
  },
  {
   "cell_type": "code",
   "execution_count": 195,
   "metadata": {},
   "outputs": [
    {
     "data": {
      "image/png": "[encoded data removed]",
      "text/plain": [
       "<Figure size 864x432 with 1 Axes>"
      ]
     },
     "metadata": {},
     "output_type": "display_data"
    }
   ],
   "source": [
    "# Order book depth chart\n",
    "\n",
    "fig, ax = plt.subplots()\n",
    "\n",
    "ax.set_title(f\"Current Order Book Depth for {name}\")\n",
    "sns.ecdfplot(x=\"price\", weights=\"quantity\", stat=\"count\", complementary=True, data=frames[\"bids\"], ax=ax)\n",
    "sns.ecdfplot(x=\"price\", weights=\"quantity\", stat=\"count\", data=frames[\"asks\"], ax=ax)\n",
    "sns.scatterplot(x=\"price\", y=\"quantity\", hue=\"side\", data=data, ax=ax)\n",
    "\n",
    "ax.set_xlabel(\"Price\")\n",
    "ax.set_ylabel(\"Quantity\")\n",
    "\n",
    "plt.show()"
   ]
  },
  {
   "cell_type": "markdown",
   "metadata": {},
   "source": [
    "Finale: how much liquidity is there at this very moment with NO SLIPPAGE?"
   ]
  },
  {
   "cell_type": "code",
   "execution_count": 196,
   "metadata": {},
   "outputs": [
    {
     "name": "stdout",
     "output_type": "stream",
     "text": [
      "Request and response delay: 0.23 seconds\n",
      "Buyer liquidity: $51109.19, BTC quantity: 1.09252\n",
      "Seller liquidity: $29398.12, BTC quantity: 0.62842\n"
     ]
    },
    {
     "ename": "KeyboardInterrupt",
     "evalue": "",
     "output_type": "error",
     "traceback": [
      "\u001b[0;31m---------------------------------------------------------------------------\u001b[0m",
      "\u001b[0;31mKeyboardInterrupt\u001b[0m                         Traceback (most recent call last)",
      "\u001b[0;32m<ipython-input-196-cca792f1a0dc>\u001b[0m in \u001b[0;36m<module>\u001b[0;34m\u001b[0m\n\u001b[1;32m     14\u001b[0m     \u001b[0mprint\u001b[0m\u001b[0;34m(\u001b[0m\u001b[0;34mf\"Buyer liquidity: ${round(buyer_liquidity, 2)}, BTC quantity: {(s.get('askQty'))}\"\u001b[0m\u001b[0;34m)\u001b[0m\u001b[0;34m\u001b[0m\u001b[0;34m\u001b[0m\u001b[0m\n\u001b[1;32m     15\u001b[0m     \u001b[0mprint\u001b[0m\u001b[0;34m(\u001b[0m\u001b[0;34mf\"Seller liquidity: ${round(seller_liquidity, 2)}, BTC quantity: {(s.get('bidQty'))}\"\u001b[0m\u001b[0;34m)\u001b[0m\u001b[0;34m\u001b[0m\u001b[0;34m\u001b[0m\u001b[0m\n\u001b[0;32m---> 16\u001b[0;31m     \u001b[0mtime\u001b[0m\u001b[0;34m.\u001b[0m\u001b[0msleep\u001b[0m\u001b[0;34m(\u001b[0m\u001b[0;36m1\u001b[0m\u001b[0;34m)\u001b[0m\u001b[0;34m\u001b[0m\u001b[0;34m\u001b[0m\u001b[0m\n\u001b[0m\u001b[1;32m     17\u001b[0m     \u001b[0mclear_output\u001b[0m\u001b[0;34m(\u001b[0m\u001b[0mwait\u001b[0m\u001b[0;34m=\u001b[0m\u001b[0;32mTrue\u001b[0m\u001b[0;34m)\u001b[0m\u001b[0;34m\u001b[0m\u001b[0;34m\u001b[0m\u001b[0m\n",
      "\u001b[0;31mKeyboardInterrupt\u001b[0m: "
     ]
    }
   ],
   "source": [
    "import time\n",
    "from IPython.display import clear_output\n",
    "counter = 0\n",
    "while counter <= 30:\n",
    "    now = time.time()\n",
    "    r = requests.get(\"https://api.binance.com/api/v3/ticker/bookTicker\", params=dict(symbol=\"BTCUSDT\"))\n",
    "    book_top = r.json()\n",
    "    name = book_top.pop(\"symbol\")  # get symbol and also delete at the same time\n",
    "    s = pd.Series(book_top, name=name, dtype=float)\n",
    "    buyer_liquidity = s.get(\"askPrice\") * s.get(\"askQty\")\n",
    "    seller_liquidity = s.get(\"bidPrice\") * s.get(\"bidQty\")\n",
    "    delay = time.time() - now\n",
    "    print('Request and response delay: {0:.2f} seconds'.format(delay))\n",
    "    print(f\"Buyer liquidity: ${round(buyer_liquidity, 2)}, BTC quantity: {(s.get('askQty'))}\")\n",
    "    print(f\"Seller liquidity: ${round(seller_liquidity, 2)}, BTC quantity: {(s.get('bidQty'))}\")\n",
    "    time.sleep(1)\n",
    "    clear_output(wait=True)"
   ]
  },
  {
   "cell_type": "markdown",
   "metadata": {},
   "source": [
    "## Final Thoughts\n"
   ]
  },
  {
   "cell_type": "code",
   "execution_count": null,
   "metadata": {},
   "outputs": [],
   "source": []
  }
 ],
 "metadata": {
  "interpreter": {
   "hash": "949777d72b0d2535278d3dc13498b2535136f6dfe0678499012e853ee9abcab1"
  },
  "kernelspec": {
   "display_name": "Python 3.9.0 64-bit",
   "language": "python",
   "name": "python3"
  },
  "language_info": {
   "codemirror_mode": {
    "name": "ipython",
    "version": 3
   },
   "file_extension": ".py",
   "mimetype": "text/x-python",
   "name": "python",
   "nbconvert_exporter": "python",
   "pygments_lexer": "ipython3",
   "version": "3.9.0"
  },
  "orig_nbformat": 4
 },
 "nbformat": 4,
 "nbformat_minor": 2
}
